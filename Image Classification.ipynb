{
  "cells": [
    {
      "cell_type": "code",
      "execution_count": null,
      "metadata": {
        "id": "SHQUMi_N88S6"
      },
      "outputs": [],
      "source": [
        "import warnings\n",
        "import torch\n",
        "import torch.nn as nn\n",
        "import torch.optim as optim\n",
        "import torchvision\n",
        "import torchvision.transforms as transforms\n",
        "import matplotlib.pyplot as plt\n",
        "import numpy as np\n",
        "import pandas as pd\n",
        "from IPython.display import Markdown\n",
        "from matplotlib.ticker import MaxNLocator"
      ]
    },
    {
      "cell_type": "markdown",
      "metadata": {
        "id": "fVVoquYaS4Oi"
      },
      "source": [
        "#**Task 1: Acquire the data** #"
      ]
    },
    {
      "cell_type": "markdown",
      "metadata": {
        "id": "b07DTTcupgxj"
      },
      "source": [
        "##**Fashion MNIST** ##"
      ]
    },
    {
      "cell_type": "code",
      "execution_count": null,
      "metadata": {
        "colab": {
          "base_uri": "https://localhost:8080/"
        },
        "id": "kUCfnQl9psbd",
        "outputId": "b4ff72ea-63bf-4029-b7ee-fb567fed2ac9"
      },
      "outputs": [
        {
          "output_type": "stream",
          "name": "stdout",
          "text": [
            "Downloading http://fashion-mnist.s3-website.eu-central-1.amazonaws.com/train-images-idx3-ubyte.gz\n",
            "Downloading http://fashion-mnist.s3-website.eu-central-1.amazonaws.com/train-images-idx3-ubyte.gz to ./data/FashionMNIST/raw/train-images-idx3-ubyte.gz\n"
          ]
        },
        {
          "output_type": "stream",
          "name": "stderr",
          "text": [
            "100%|██████████| 26421880/26421880 [00:01<00:00, 18443723.05it/s]\n"
          ]
        },
        {
          "output_type": "stream",
          "name": "stdout",
          "text": [
            "Extracting ./data/FashionMNIST/raw/train-images-idx3-ubyte.gz to ./data/FashionMNIST/raw\n",
            "\n",
            "Downloading http://fashion-mnist.s3-website.eu-central-1.amazonaws.com/train-labels-idx1-ubyte.gz\n",
            "Downloading http://fashion-mnist.s3-website.eu-central-1.amazonaws.com/train-labels-idx1-ubyte.gz to ./data/FashionMNIST/raw/train-labels-idx1-ubyte.gz\n"
          ]
        },
        {
          "output_type": "stream",
          "name": "stderr",
          "text": [
            "100%|██████████| 29515/29515 [00:00<00:00, 309660.62it/s]\n"
          ]
        },
        {
          "output_type": "stream",
          "name": "stdout",
          "text": [
            "Extracting ./data/FashionMNIST/raw/train-labels-idx1-ubyte.gz to ./data/FashionMNIST/raw\n",
            "\n",
            "Downloading http://fashion-mnist.s3-website.eu-central-1.amazonaws.com/t10k-images-idx3-ubyte.gz\n",
            "Downloading http://fashion-mnist.s3-website.eu-central-1.amazonaws.com/t10k-images-idx3-ubyte.gz to ./data/FashionMNIST/raw/t10k-images-idx3-ubyte.gz\n"
          ]
        },
        {
          "output_type": "stream",
          "name": "stderr",
          "text": [
            "100%|██████████| 4422102/4422102 [00:00<00:00, 5464785.39it/s]\n"
          ]
        },
        {
          "output_type": "stream",
          "name": "stdout",
          "text": [
            "Extracting ./data/FashionMNIST/raw/t10k-images-idx3-ubyte.gz to ./data/FashionMNIST/raw\n",
            "\n",
            "Downloading http://fashion-mnist.s3-website.eu-central-1.amazonaws.com/t10k-labels-idx1-ubyte.gz\n",
            "Downloading http://fashion-mnist.s3-website.eu-central-1.amazonaws.com/t10k-labels-idx1-ubyte.gz to ./data/FashionMNIST/raw/t10k-labels-idx1-ubyte.gz\n"
          ]
        },
        {
          "output_type": "stream",
          "name": "stderr",
          "text": [
            "100%|██████████| 5148/5148 [00:00<00:00, 14327987.39it/s]"
          ]
        },
        {
          "output_type": "stream",
          "name": "stdout",
          "text": [
            "Extracting ./data/FashionMNIST/raw/t10k-labels-idx1-ubyte.gz to ./data/FashionMNIST/raw\n",
            "\n"
          ]
        },
        {
          "output_type": "stream",
          "name": "stderr",
          "text": [
            "\n"
          ]
        }
      ],
      "source": [
        "# Define data transformations\n",
        "transform = transforms.Compose([transforms.ToTensor()])\n",
        "\n",
        "# Load the fashion MNIST dataset\n",
        "train_dataset = torchvision.datasets.FashionMNIST(root='./data', train=True, download=True, transform=transform)\n",
        "test_dataset = torchvision.datasets.FashionMNIST(root='./data', train=False, download=True, transform=transform)\n",
        "\n",
        "# Create data loaders\n",
        "batch_size = 32\n",
        "train_loader = torch.utils.data.DataLoader(train_dataset, batch_size=batch_size, shuffle=True)\n",
        "test_loader = torch.utils.data.DataLoader(test_dataset, batch_size=batch_size, shuffle=False)\n"
      ]
    },
    {
      "cell_type": "markdown",
      "metadata": {
        "id": "w_uXzdcUd4IM"
      },
      "source": [
        "###**Compute Mean & STD to use in Normalization process** ###"
      ]
    },
    {
      "cell_type": "code",
      "execution_count": null,
      "metadata": {
        "id": "IjXDYipzZ6G8"
      },
      "outputs": [],
      "source": [
        "def compute_mean_std(train_loader, test_loader):\n",
        "    # Concatenate train and test datasets\n",
        "    all_data = torch.cat([torch.cat([images for images, _ in loader], dim=0) for loader in (train_loader, test_loader)], dim=0)\n",
        "\n",
        "    # Vectorize the images\n",
        "    num_images, num_channels, height, width = all_data.size()\n",
        "    all_data = all_data.view(num_images, -1)\n",
        "\n",
        "    # Compute mean and std\n",
        "    mean = all_data.mean(dim=0)\n",
        "    std = all_data.std(dim=0)\n",
        "\n",
        "    return mean, std\n",
        "\n",
        "# Get mean and std\n",
        "mean, std = compute_mean_std(train_loader, test_loader)\n",
        "\n",
        "# Print mean and std\n",
        "#print('Mean:', mean)\n",
        "#print('Standard Deviation:', std)\n"
      ]
    },
    {
      "cell_type": "markdown",
      "metadata": {
        "id": "whLpQ9VCeEMS"
      },
      "source": [
        "###**Vectorize and Normalize Training & Test set** ###"
      ]
    },
    {
      "cell_type": "code",
      "execution_count": null,
      "metadata": {
        "id": "RUvb44brEpRh"
      },
      "outputs": [],
      "source": [
        "def vectorize_and_normalize(data_loader, mean=None, std=None):\n",
        "    vectorized_data = []\n",
        "    labels = []\n",
        "    for images, targets in data_loader:\n",
        "        # Vectorize the images\n",
        "        batch_size, num_channels, height, width = images.size()\n",
        "        images = images.view(batch_size, -1)\n",
        "\n",
        "        if mean is not None and std is not None:\n",
        "            # Normalize the images using the calculated mean and std\n",
        "            images = (images - mean.view(1, -1)) / std.view(1, -1)\n",
        "\n",
        "        vectorized_data.append(images)\n",
        "        labels.append(targets)\n",
        "\n",
        "    vectorized_data = torch.cat(vectorized_data, dim=0)\n",
        "    labels = torch.cat(labels, dim=0)\n",
        "\n",
        "    return vectorized_data, labels\n",
        "\n",
        "\n",
        "# Vectorize and normalize the training and test data\n",
        "train_data, train_labels = vectorize_and_normalize(train_loader, mean, std)\n",
        "test_data, test_labels = vectorize_and_normalize(test_loader, mean, std)\n",
        "\n",
        "# Vectorize training and test data, NO normalization\n",
        "train_data_raw, train_labels_raw = vectorize_and_normalize(train_loader)\n",
        "test_data_raw, test_labels_raw = vectorize_and_normalize(test_loader)"
      ]
    },
    {
      "cell_type": "markdown",
      "metadata": {
        "id": "4MyVHK_8eVFA"
      },
      "source": [
        "###**Display A Sample of Every Image Class in Fashion MNIST Dataset** ###"
      ]
    },
    {
      "cell_type": "code",
      "execution_count": null,
      "metadata": {
        "colab": {
          "base_uri": "https://localhost:8080/",
          "height": 473
        },
        "id": "OMGCHWmKdh1E",
        "outputId": "4beabb40-6496-42f2-834f-318becc56580"
      },
      "outputs": [
        {
          "output_type": "display_data",
          "data": {
            "text/plain": [
              "<Figure size 1000x500 with 10 Axes>"
            ],
            "image/png": "[encoded data removed]"
          },
          "metadata": {}
        }
      ],
      "source": [
        "import matplotlib.pyplot as plt\n",
        "import torch\n",
        "import torchvision\n",
        "import torchvision.transforms as transforms\n",
        "\n",
        "# Define data transformations and load the dataset\n",
        "transform = transforms.Compose([transforms.ToTensor()])\n",
        "train_dataset = torchvision.datasets.FashionMNIST(root='./data', train=True, download=True, transform=transform)\n",
        "\n",
        "# Create a dictionary to hold a sample image for each class\n",
        "class_samples = {i: None for i in range(10)}\n",
        "\n",
        "# Iterate through the dataset to find a sample image for each class\n",
        "for image, label in train_dataset:\n",
        "    # If we've found a sample for every class, break out of the loop\n",
        "    if all(v is not None for v in class_samples.values()):\n",
        "        break\n",
        "    # Otherwise, save the first occurrence of each class to the dictionary\n",
        "    if class_samples[label] is None:\n",
        "        class_samples[label] = image\n",
        "\n",
        "# List of class label names\n",
        "class_names = [\n",
        "    \"T-shirt/top\",\n",
        "    \"Trouser\",\n",
        "    \"Pullover\",\n",
        "    \"Dress\",\n",
        "    \"Coat\",\n",
        "    \"Sandal\",\n",
        "    \"Shirt\",\n",
        "    \"Sneaker\",\n",
        "    \"Bag\",\n",
        "    \"Ankle boot\"\n",
        "]\n",
        "\n",
        "# Plot a sample image for each class\n",
        "fig, axes = plt.subplots(2, 5, figsize=(10, 5))\n",
        "for i, ax in enumerate(axes.flat):\n",
        "    ax.imshow(class_samples[i].squeeze(), cmap='gray')\n",
        "    ax.set_title(class_names[i])\n",
        "    ax.axis('off')\n",
        "plt.tight_layout()  # Adjusts the spacing between plots\n",
        "plt.show()\n"
      ]
    },
    {
      "cell_type": "markdown",
      "metadata": {
        "id": "q2KUaNABpszE"
      },
      "source": [
        "##**CIFAR-10** ##"
      ]
    },
    {
      "cell_type": "code",
      "execution_count": null,
      "metadata": {
        "colab": {
          "base_uri": "https://localhost:8080/"
        },
        "id": "qrqqz1KITIIz",
        "outputId": "333e8759-72cd-499b-bf0e-5ea30ea44024"
      },
      "outputs": [
        {
          "output_type": "stream",
          "name": "stdout",
          "text": [
            "Downloading https://www.cs.toronto.edu/~kriz/cifar-10-python.tar.gz to ./data/cifar-10-python.tar.gz\n"
          ]
        },
        {
          "output_type": "stream",
          "name": "stderr",
          "text": [
            "100%|██████████| 170498071/170498071 [00:03<00:00, 50460819.39it/s]\n"
          ]
        },
        {
          "output_type": "stream",
          "name": "stdout",
          "text": [
            "Extracting ./data/cifar-10-python.tar.gz to ./data\n",
            "Files already downloaded and verified\n"
          ]
        }
      ],
      "source": [
        "# Precise mean and standard deviation values for CIFAR-10\n",
        "# AS PER https://stackoverflow.com/questions/66678052/how-to-calculate-the-mean-and-the-std-of-cifar10-data#:~:text=The%20precise%20values%20for%20cifar10%20train%20set,are%20mean%3A%200.49139968%2C%200.48215827%2C0.44653124%20std%3A%200.24703233%200.24348505%200.26158768\n",
        "mean = (0.49139968, 0.48215827, 0.44653124)\n",
        "std = (0.24703233, 0.24348505, 0.26158768)\n",
        "\n",
        "# Define the transformation for normalizing and reshaping the data\n",
        "transform = transforms.Compose([\n",
        "    transforms.ToTensor(),\n",
        "    transforms.Normalize(mean, std)\n",
        "])\n",
        "\n",
        "# Load the CIFAR-10 dataset\n",
        "trainset = torchvision.datasets.CIFAR10(root='./data', train=True, download=True, transform=transform)\n",
        "testset = torchvision.datasets.CIFAR10(root='./data', train=False, download=True, transform=transform)\n",
        "\n",
        "# Create data loaders\n",
        "trainloader = torch.utils.data.DataLoader(trainset, batch_size=64, shuffle=True)\n",
        "testloader = torch.utils.data.DataLoader(testset, batch_size=64, shuffle=False)\n"
      ]
    },
    {
      "cell_type": "markdown",
      "metadata": {
        "id": "aGViZk3rlWWX"
      },
      "source": [
        "###**Display A Sample of Every Image Class in CIFAR-10 Dataset** ###"
      ]
    },
    {
      "cell_type": "code",
      "execution_count": null,
      "metadata": {
        "colab": {
          "base_uri": "https://localhost:8080/",
          "height": 351
        },
        "id": "_5MQYwv-V3hB",
        "outputId": "e361c380-947a-4d3c-a8b9-f581ce5658f2"
      },
      "outputs": [
        {
          "output_type": "display_data",
          "data": {
            "text/plain": [
              "<Figure size 1000x1000 with 10 Axes>"
            ],
            "image/png": "[encoded data removed]"
          },
          "metadata": {}
        }
      ],
      "source": [
        "# CIFAR-10 class labels\n",
        "classes = ('plane', 'car', 'bird', 'cat', 'deer', 'dog', 'frog', 'horse', 'ship', 'truck')\n",
        "\n",
        "# Function to show unique training images\n",
        "def show_images():\n",
        "    plt.figure(figsize=(10, 10))\n",
        "    list_ = []\n",
        "    y = 0\n",
        "    for images, labels in trainloader:\n",
        "        # Vectorize the images\n",
        "        images = images.view(images.size(0), -1)\n",
        "        for i in range(len(labels)):\n",
        "            label_index = labels[i].item()\n",
        "            if classes[label_index] not in list_:\n",
        "                plt.subplot(5, 5, y + 1)\n",
        "                plt.xticks([])\n",
        "                plt.yticks([])\n",
        "                plt.grid(False)\n",
        "                img = images[i].view(3, 32, 32).numpy()  # Reshape back to 3x32x32 for displaying\n",
        "                img = np.array(std)[:, None, None] * img + np.array(mean)[:, None, None]  # De-normalize for displaying\n",
        "                img = np.clip(img, 0, 1)  # Clip values to the range [0, 1]\n",
        "                plt.imshow(np.transpose(img, (1, 2, 0)))\n",
        "                plt.title(classes[label_index])\n",
        "                list_.append(classes[label_index])\n",
        "                y += 1\n",
        "            if y >= 10:\n",
        "                break\n",
        "        if y >= 10:\n",
        "            break\n",
        "    plt.show()\n",
        "\n",
        "# Call the function to show unique training images\n",
        "show_images()"
      ]
    },
    {
      "cell_type": "code",
      "execution_count": null,
      "metadata": {
        "colab": {
          "base_uri": "https://localhost:8080/",
          "height": 807
        },
        "id": "39x2EGckJkl7",
        "outputId": "d1689664-33d8-4b06-966a-89d1ddc2f014"
      },
      "outputs": [
        {
          "output_type": "display_data",
          "data": {
            "text/plain": [
              "<Figure size 800x800 with 4 Axes>"
            ],
            "image/png": "[encoded data removed]"
          },
          "metadata": {}
        }
      ],
      "source": [
        "import matplotlib.pyplot as plt\n",
        "import numpy as np\n",
        "import torch\n",
        "import torchvision\n",
        "\n",
        "# Function to plot label distribution\n",
        "def plot_label_distribution(labels, title, ax):\n",
        "    unique_labels, counts = np.unique(labels, return_counts=True)\n",
        "    ax.bar(unique_labels, counts, tick_label=unique_labels)\n",
        "    ax.set_title(title)\n",
        "    ax.set_xlabel('Class Labels')\n",
        "    ax.set_ylabel('Frequency')\n",
        "\n",
        "# Get the labels for both datasets\n",
        "fashion_mnist_train_labels = np.array([label for _, label in train_dataset])\n",
        "fashion_mnist_test_labels = np.array([label for _, label in test_dataset])\n",
        "cifar10_train_labels = np.array([label for _, label in trainset])\n",
        "cifar10_test_labels = np.array([label for _, label in testset])\n",
        "\n",
        "# Create subplots\n",
        "fig, axs = plt.subplots(2, 2, figsize=(8, 8))\n",
        "\n",
        "# Plot the label distributions\n",
        "plot_label_distribution(fashion_mnist_train_labels, 'Fashion MNIST Train Label Distribution', axs[0, 0])\n",
        "plot_label_distribution(fashion_mnist_test_labels, 'Fashion MNIST Test Label Distribution', axs[0, 1])\n",
        "plot_label_distribution(cifar10_train_labels, 'CIFAR-10 Train Label Distribution', axs[1, 0])\n",
        "plot_label_distribution(cifar10_test_labels, 'CIFAR-10 Test Label Distribution', axs[1, 1])\n",
        "\n",
        "# Adjust the spacing\n",
        "plt.tight_layout()\n",
        "plt.show()\n"
      ]
    },
    {
      "cell_type": "markdown",
      "metadata": {
        "id": "hMzvJPA9zE2_"
      },
      "source": [
        "#**Task 2: Implement a Multilayer Perceptron** #"
      ]
    },
    {
      "cell_type": "markdown",
      "metadata": {
        "id": "Iw9G4i9xzPLr"
      },
      "source": [
        "Implement the MLP as a python class. The constructor for the class should take as input the activation function\n",
        "(e.g., ReLU), the number of hidden layers (e.g., 2) and the number of units in the hidden layers (e.g., [64, 64]) and\n",
        "it should initialize the weights and biases (with an initializer of your choice, except where otherwise specified)\n",
        "as well as other important properties of the MLP."
      ]
    },
    {
      "cell_type": "markdown",
      "metadata": {
        "id": "XcghtZTMTmXH"
      },
      "source": [
        "Helper functions to print a confusion matrix"
      ]
    },
    {
      "cell_type": "code",
      "execution_count": null,
      "metadata": {
        "id": "E4Ab_P3lj9IS"
      },
      "outputs": [],
      "source": [
        "def confusion_matrix(y_true, y_pred, labels):\n",
        "  # Initialize the confusion matrix\n",
        "  confusion_matrix = [[0] * len(labels) for _ in range(len(labels))]\n",
        "\n",
        "  # Populate the confusion matrix\n",
        "  for actual, predicted in zip(y_true, y_pred):\n",
        "      confusion_matrix[actual-1][predicted-1] += 1\n",
        "\n",
        "  return np.array(confusion_matrix)\n",
        "\n",
        "def print_confusion_matrix(conf_matrix, title):\n",
        "    fig, ax = plt.subplots(figsize=(6, 6))\n",
        "    ax.matshow(conf_matrix, cmap=plt.cm.Oranges, alpha=0.3)\n",
        "    for i in range(conf_matrix.shape[0]):\n",
        "        for j in range(conf_matrix.shape[1]):\n",
        "            ax.text(x=j, y=i,s=conf_matrix[i, j], va='center', ha='center', size='xx-large')\n",
        "\n",
        "    plt.xlabel('Predicted', fontsize=16)\n",
        "    plt.ylabel('Actuals', fontsize=16)\n",
        "    plt.title(title, fontsize=18)\n",
        "    plt.show()"
      ]
    },
    {
      "cell_type": "markdown",
      "metadata": {
        "id": "M2FAQXTPThg6"
      },
      "source": [
        "Activation functions and their derivatives"
      ]
    },
    {
      "cell_type": "code",
      "execution_count": null,
      "metadata": {
        "id": "ytq3O5dh6d42"
      },
      "outputs": [],
      "source": [
        "# Sigmoid (logistic)\n",
        "sigmoid = lambda x: 1/(1 + np.exp(-x))\n",
        "sigmoid_prime = lambda x: x * (1 - x)\n",
        "\n",
        "# Hyperbolic tangent\n",
        "tanh = lambda x: np.tanh(x)\n",
        "tanh_prime = lambda x: 1 - x ** 2\n",
        "\n",
        "# ReLu\n",
        "relu = lambda x: np.maximum(0, x)\n",
        "relu_prime = lambda x: (x > 0).astype(float)"
      ]
    },
    {
      "cell_type": "markdown",
      "metadata": {
        "id": "RlAibmbh17q1"
      },
      "source": [
        "Multilayers Perceptron Class inspired from https://github.com/KirillShmilovich/MLP-Neural-Network-From-Scratch/blob/master/MLP.ipynb and class notes."
      ]
    },
    {
      "cell_type": "code",
      "execution_count": null,
      "metadata": {
        "id": "2rn9gph7zRNO"
      },
      "outputs": [],
      "source": [
        "class MLP():\n",
        "\n",
        "  def __init__(self, activation_function, num_hidden, size_hidden, learning_rate, add_bias=True, batch_size=32, weight_init='xavier', l1=0.0, l2=0.0, learning_rate_decay=0, random_state=None):\n",
        "    self.activation_function = activation_function\n",
        "    self.num_hidden = num_hidden\n",
        "    self.size_hidden = size_hidden\n",
        "    self.add_bias = add_bias\n",
        "    self.batch_size = batch_size\n",
        "    self.learning_rate = learning_rate\n",
        "    self.weight_init = weight_init    # Weight initialization technique\n",
        "    self.l1 = l1\n",
        "    self.l2 = l2\n",
        "    self.learning_rate_decay = learning_rate_decay\n",
        "    self.random_state=random_state\n",
        "\n",
        "    self.weights = []\n",
        "\n",
        "    # Initialize empty arrays to store loss, accuracy\n",
        "    self.train_loss = []\n",
        "    self.train_acc = []\n",
        "    self.test_loss = []\n",
        "    self.test_acc = []\n",
        "\n",
        "    # Set activation function and derivative\n",
        "    if activation_function == \"sigmoid\":\n",
        "      self.activation = sigmoid\n",
        "      self.activation_prime = sigmoid_prime\n",
        "    elif activation_function == \"tanh\":\n",
        "        self.activation = tanh\n",
        "        self.activation_prime = tanh_prime\n",
        "    elif activation_function == \"relu\":\n",
        "        self.activation = relu\n",
        "        self.activation_prime = relu_prime\n",
        "\n",
        "  # Softmax function\n",
        "  def softmax(self, z):\n",
        "    exp_z = np.exp(z - np.amax(z, axis=1, keepdims=True))      # Remove the max value to prevent overflow\n",
        "    return exp_z / (np.sum(exp_z, axis=1, keepdims=True))\n",
        "\n",
        "  def feed_forward(self, x):\n",
        "    # Output of the first layer is simply x\n",
        "    layer_output = x\n",
        "    self.layers_outputs[0] = layer_output\n",
        "\n",
        "    # Iterate through each layer\n",
        "    for i, w in enumerate(self.weights):\n",
        "      layer_output = self.activation(np.dot(layer_output, w))   # Compute output of next layer\n",
        "      self.layers_outputs[i+1] = layer_output\n",
        "\n",
        "    # Softmax on last layer output\n",
        "    output = self.softmax(self.layers_outputs[-1])\n",
        "    return output\n",
        "\n",
        "  # Update the weights of the network through back-propagation\n",
        "  def back_prop(self, y, yh, epoch):\n",
        "    # Calculate the error at the output layer\n",
        "    dy = (yh - y)\n",
        "\n",
        "    if self.activation_function in [\"sigmoid\", \"tanh\"]:\n",
        "      dy *= self.activation_prime(self.layers_outputs[-1])\n",
        "\n",
        "    for i in range(1, len(self.weights)+1):\n",
        "      x = self.layers_outputs[-i-1]\n",
        "\n",
        "      # L1 regularization\n",
        "      if self.l1 > 0:\n",
        "        l1_regularization_term = self.l1/(2*self.batch_size) * (np.linalg.norm(self.weights[-i]))\n",
        "      else:\n",
        "        l1_regularization_term = 0\n",
        "\n",
        "      # L2 regularization\n",
        "      if self.l2 > 0:\n",
        "        l2_regularization_term = self.l2/(2*self.batch_size) * (np.linalg.norm(self.weights[-i])**2)\n",
        "      else:\n",
        "        l2_regularization_term = 0\n",
        "\n",
        "      # Learning rate decay\n",
        "      if self.learning_rate_decay > 0:\n",
        "        learning_rate = self.learning_rate / (1 + epoch * self.learning_rate_decay)\n",
        "      else:\n",
        "        learning_rate = self.learning_rate\n",
        "\n",
        "      grad = np.dot(x.T, dy)/self.batch_size                  # Compute gradient\n",
        "      self.weights[-i] -= learning_rate * (grad + l1_regularization_term + l2_regularization_term)          # Update weights\n",
        "      dy = self.activation_prime(x) * (np.dot(dy, self.weights[-i].T))\n",
        "\n",
        "  # Compute the multiclass cross-entropy loss\n",
        "  # Takes one-hot encoding format\n",
        "  def loss(self, y_pred, y):\n",
        "    y_pred = np.clip(y_pred, 1e-20, 1 - 1e-20)  # Limit the range of y_pred to avoid log(0) or log(1)\n",
        "    return ((-np.log(y_pred))*y).sum(axis=1).mean()/2\n",
        "\n",
        "  # Init the weights given a technique\n",
        "  def init_weights(self, technique):\n",
        "\n",
        "    for i in range(self.layer_sizes.shape[0] - 1):\n",
        "      input_size = self.layer_sizes[i]\n",
        "      output_size = self.layer_sizes[i+1]\n",
        "\n",
        "      if technique == \"uniform\":\n",
        "        # Init the weights with random values from [-1,1] with std=1 and mean=0\n",
        "        self.weights.append(np.random.uniform(-1, 1, size=(input_size, output_size)))\n",
        "      elif technique == \"zeros\":\n",
        "        # Init weights with all zeros\n",
        "        self.weights.append(np.zeros(shape=(input_size, output_size)))\n",
        "      elif technique == \"gaussian\":\n",
        "        # Init weights with Gaussian N(0,1)\n",
        "        self.weights.append(np.random.normal(size=(input_size, output_size)))\n",
        "      elif technique == \"xavier\":\n",
        "        # Init weights with normalized Xavier\n",
        "        bound = np.sqrt(6.0 / (self.layer_sizes[i] + output_size))\n",
        "        if self.random_state:\n",
        "          self.weights.append(np.random.default_rng(seed=self.random_state).uniform(-bound, bound, size=(input_size, output_size)))\n",
        "        else:\n",
        "          self.weights.append(np.random.uniform(-bound, bound, size=(input_size, output_size)))\n",
        "      elif technique == \"kaiming\":\n",
        "        # Init weights with Kaiming\n",
        "        std = np.sqrt(2.0 / self.layer_sizes[i])\n",
        "        self.weights.append(np.random.normal(0, std, size=(input_size, output_size)))\n",
        "\n",
        "  # Transform probabilities into labels by taking the max probability\n",
        "  def prob_to_labels(self, y):\n",
        "    y_hot = np.zeros((y.shape[0], y.shape[1]))\n",
        "    y_hot[np.arange(y.shape[0]), y.argmax(axis=1)] = 1\n",
        "\n",
        "    # Take max probability of every sample\n",
        "    return np.argmax(y_hot, axis=1)\n",
        "\n",
        "  # Make random batches of size N\n",
        "  def make_batches(self, X, y, N):\n",
        "    if self.random_state:\n",
        "      n = np.random.default_rng(seed=self.random_state).permutation(N)\n",
        "    else:\n",
        "      n = np.random.permutation(N)\n",
        "    X_batches = np.array_split(X[n], N/self.batch_size)\n",
        "    Y_batches = np.array_split(y[n], N/self.batch_size)\n",
        "    return X_batches, Y_batches\n",
        "\n",
        "  def fit(self, X, X_test, y, y_test, epochs, early_exit=0, verbose=False):\n",
        "    self.epochs = epochs\n",
        "    self.X = X\n",
        "    self.Y = y\n",
        "    N, D = X.shape      # N = number of samples (60000), D = length of sample (28x28=784)\n",
        "\n",
        "    # One-hot encode the labels\n",
        "    num_classes = len(np.unique(y))             # number of classes\n",
        "    y = np.eye(num_classes)[y]                  # one-hot encoding of y\n",
        "    y_test = np.eye(num_classes)[y_test]        # one-hot encoding of y_test\n",
        "\n",
        "    # Add bias\n",
        "    if self.add_bias:\n",
        "      X = np.concatenate((X, np.ones((N,1))), axis=1)\n",
        "      X_test = np.concatenate((X_test, np.ones((X_test.shape[0], 1))), axis=1)\n",
        "      N, D = X.shape\n",
        "\n",
        "    # Create array that holds the size of every layer: [input_l, hidden_l1, hidden_l2, ..., hidden_ln, output_l]\n",
        "    self.layer_sizes = np.array([D] + self.size_hidden + [y.shape[1]])\n",
        "\n",
        "    # Initialize the weights\n",
        "    self.init_weights(self.weight_init)\n",
        "\n",
        "    for epoch in range(epochs):\n",
        "\n",
        "      # Init layers outputs\n",
        "      self.layers_outputs = [np.empty((self.batch_size, layer)) for layer in self.layer_sizes]    # List of empty arrays used to hold hidden layer outputs\n",
        "\n",
        "      # Init train loss and accuracy\n",
        "      train_loss = 0\n",
        "      train_acc = 0\n",
        "\n",
        "      # Make batches\n",
        "      X_batches, Y_batches = self.make_batches(X, y, N)\n",
        "\n",
        "      for batch_x, batch_y in zip(X_batches, Y_batches):\n",
        "        yh = self.feed_forward(batch_x)\n",
        "        train_loss += self.loss(yh, batch_y)\n",
        "        train_acc += self.evaluate_acc(self.prob_to_labels(yh), self.prob_to_labels(batch_y))\n",
        "        self.back_prop(batch_y, yh, epoch)\n",
        "\n",
        "      self.train_loss.append(train_loss/len(X_batches))\n",
        "      self.train_acc.append(train_acc/len(X_batches))\n",
        "\n",
        "      # Compute loss and accuracy on test dataset\n",
        "      self.layers_outputs = [np.empty((N, layer)) for layer in self.layer_sizes]\n",
        "      output_y = self.feed_forward(X_test)\n",
        "      test_loss = self.loss(output_y, y_test)\n",
        "      test_acc = self.evaluate_acc(self.prob_to_labels(output_y), self.prob_to_labels(y_test))\n",
        "      self.test_loss.append(test_loss)\n",
        "      self.test_acc.append(test_acc)\n",
        "\n",
        "      if test_acc < early_exit:\n",
        "        # exit fit function if accuracy is lower early_exit value\n",
        "        break\n",
        "\n",
        "    if verbose == True:\n",
        "      self.print_metrics()\n",
        "\n",
        "  def predict(self, X):\n",
        "    # Add bias\n",
        "    if self.add_bias:\n",
        "      X = np.concatenate((X, np.ones((X.shape[0] ,1))), axis=1)\n",
        "\n",
        "    # Feed the data to the MLP\n",
        "    self.output_layers = [np.empty((X.shape[0], layer)) for layer in self.layer_sizes]\n",
        "    output = self.feed_forward(X)\n",
        "\n",
        "    return self.prob_to_labels(output) # Return labels\n",
        "\n",
        "  # Accuracy by comparing labels of 2 arrays\n",
        "  def evaluate_acc(self, y_pred, y):\n",
        "    return np.sum(y_pred == y)/len(y)\n",
        "\n",
        "  # Prints a table of the metrics of epochs\n",
        "  def print_metrics(self):\n",
        "    # Create dataframe to display metrics in a table\n",
        "    metrics_rows = [[i+1, self.train_loss[i], self.test_loss[i], self.train_acc[i], self.test_acc[i]] for i in range(self.epochs)]\n",
        "    metrics_df = pd.DataFrame(metrics_rows, columns=[\"Epochs\", \"Training Loss\", \"Test Loss\", \"Training Accuracy\", \"Test Accuracy\"])\n",
        "    metrics_df = metrics_df.round(4)\n",
        "    styled_df = metrics_df.style.hide(axis=\"index\").set_properties(**{'text-align': 'left'})\n",
        "    styled_df.set_caption(\"Metrics of MLP fitting over epochs\")\n",
        "    styled_df.format({'int_column': '{:.0f}'})\n",
        "    styled_df.format(precision=4)\n",
        "    display(styled_df)\n"
      ]
    },
    {
      "cell_type": "code",
      "execution_count": null,
      "metadata": {
        "colab": {
          "base_uri": "https://localhost:8080/",
          "height": 1000
        },
        "id": "-XrWMTQ2pMAn",
        "outputId": "014b3c16-379f-4244-cb76-9bd44bd41d07"
      },
      "outputs": [
        {
          "output_type": "display_data",
          "data": {
            "text/plain": [
              "<pandas.io.formats.style.Styler at 0x79f0bc97b0a0>"
            ],
            "text/html": [
              "<style type=\"text/css\">\n",
              "#T_a9ba6_row0_col0, #T_a9ba6_row0_col1, #T_a9ba6_row0_col2, #T_a9ba6_row0_col3, #T_a9ba6_row0_col4, #T_a9ba6_row1_col0, #T_a9ba6_row1_col1, #T_a9ba6_row1_col2, #T_a9ba6_row1_col3, #T_a9ba6_row1_col4, #T_a9ba6_row2_col0, #T_a9ba6_row2_col1, #T_a9ba6_row2_col2, #T_a9ba6_row2_col3, #T_a9ba6_row2_col4, #T_a9ba6_row3_col0, #T_a9ba6_row3_col1, #T_a9ba6_row3_col2, #T_a9ba6_row3_col3, #T_a9ba6_row3_col4, #T_a9ba6_row4_col0, #T_a9ba6_row4_col1, #T_a9ba6_row4_col2, #T_a9ba6_row4_col3, #T_a9ba6_row4_col4, #T_a9ba6_row5_col0, #T_a9ba6_row5_col1, #T_a9ba6_row5_col2, #T_a9ba6_row5_col3, #T_a9ba6_row5_col4, #T_a9ba6_row6_col0, #T_a9ba6_row6_col1, #T_a9ba6_row6_col2, #T_a9ba6_row6_col3, #T_a9ba6_row6_col4, #T_a9ba6_row7_col0, #T_a9ba6_row7_col1, #T_a9ba6_row7_col2, #T_a9ba6_row7_col3, #T_a9ba6_row7_col4, #T_a9ba6_row8_col0, #T_a9ba6_row8_col1, #T_a9ba6_row8_col2, #T_a9ba6_row8_col3, #T_a9ba6_row8_col4, #T_a9ba6_row9_col0, #T_a9ba6_row9_col1, #T_a9ba6_row9_col2, #T_a9ba6_row9_col3, #T_a9ba6_row9_col4, #T_a9ba6_row10_col0, #T_a9ba6_row10_col1, #T_a9ba6_row10_col2, #T_a9ba6_row10_col3, #T_a9ba6_row10_col4, #T_a9ba6_row11_col0, #T_a9ba6_row11_col1, #T_a9ba6_row11_col2, #T_a9ba6_row11_col3, #T_a9ba6_row11_col4, #T_a9ba6_row12_col0, #T_a9ba6_row12_col1, #T_a9ba6_row12_col2, #T_a9ba6_row12_col3, #T_a9ba6_row12_col4, #T_a9ba6_row13_col0, #T_a9ba6_row13_col1, #T_a9ba6_row13_col2, #T_a9ba6_row13_col3, #T_a9ba6_row13_col4, #T_a9ba6_row14_col0, #T_a9ba6_row14_col1, #T_a9ba6_row14_col2, #T_a9ba6_row14_col3, #T_a9ba6_row14_col4 {\n",
              "  text-align: left;\n",
              "}\n",
              "</style>\n",
              "<table id=\"T_a9ba6\" class=\"dataframe\">\n",
              "  <caption>Metrics of MLP fitting over epochs</caption>\n",
              "  <thead>\n",
              "    <tr>\n",
              "      <th id=\"T_a9ba6_level0_col0\" class=\"col_heading level0 col0\" >Epochs</th>\n",
              "      <th id=\"T_a9ba6_level0_col1\" class=\"col_heading level0 col1\" >Training Loss</th>\n",
              "      <th id=\"T_a9ba6_level0_col2\" class=\"col_heading level0 col2\" >Test Loss</th>\n",
              "      <th id=\"T_a9ba6_level0_col3\" class=\"col_heading level0 col3\" >Training Accuracy</th>\n",
              "      <th id=\"T_a9ba6_level0_col4\" class=\"col_heading level0 col4\" >Test Accuracy</th>\n",
              "    </tr>\n",
              "  </thead>\n",
              "  <tbody>\n",
              "    <tr>\n",
              "      <td id=\"T_a9ba6_row0_col0\" class=\"data row0 col0\" >1</td>\n",
              "      <td id=\"T_a9ba6_row0_col1\" class=\"data row0 col1\" >0.8049</td>\n",
              "      <td id=\"T_a9ba6_row0_col2\" class=\"data row0 col2\" >0.7929</td>\n",
              "      <td id=\"T_a9ba6_row0_col3\" class=\"data row0 col3\" >0.7907</td>\n",
              "      <td id=\"T_a9ba6_row0_col4\" class=\"data row0 col4\" >0.8218</td>\n",
              "    </tr>\n",
              "    <tr>\n",
              "      <td id=\"T_a9ba6_row1_col0\" class=\"data row1 col0\" >2</td>\n",
              "      <td id=\"T_a9ba6_row1_col1\" class=\"data row1 col1\" >0.7837</td>\n",
              "      <td id=\"T_a9ba6_row1_col2\" class=\"data row1 col2\" >0.7863</td>\n",
              "      <td id=\"T_a9ba6_row1_col3\" class=\"data row1 col3\" >0.8464</td>\n",
              "      <td id=\"T_a9ba6_row1_col4\" class=\"data row1 col4\" >0.8430</td>\n",
              "    </tr>\n",
              "    <tr>\n",
              "      <td id=\"T_a9ba6_row2_col0\" class=\"data row2 col0\" >3</td>\n",
              "      <td id=\"T_a9ba6_row2_col1\" class=\"data row2 col1\" >0.7777</td>\n",
              "      <td id=\"T_a9ba6_row2_col2\" class=\"data row2 col2\" >0.7832</td>\n",
              "      <td id=\"T_a9ba6_row2_col3\" class=\"data row2 col3\" >0.8594</td>\n",
              "      <td id=\"T_a9ba6_row2_col4\" class=\"data row2 col4\" >0.8505</td>\n",
              "    </tr>\n",
              "    <tr>\n",
              "      <td id=\"T_a9ba6_row3_col0\" class=\"data row3 col0\" >4</td>\n",
              "      <td id=\"T_a9ba6_row3_col1\" class=\"data row3 col1\" >0.7742</td>\n",
              "      <td id=\"T_a9ba6_row3_col2\" class=\"data row3 col2\" >0.7815</td>\n",
              "      <td id=\"T_a9ba6_row3_col3\" class=\"data row3 col3\" >0.8656</td>\n",
              "      <td id=\"T_a9ba6_row3_col4\" class=\"data row3 col4\" >0.8549</td>\n",
              "    </tr>\n",
              "    <tr>\n",
              "      <td id=\"T_a9ba6_row4_col0\" class=\"data row4 col0\" >5</td>\n",
              "      <td id=\"T_a9ba6_row4_col1\" class=\"data row4 col1\" >0.7717</td>\n",
              "      <td id=\"T_a9ba6_row4_col2\" class=\"data row4 col2\" >0.7807</td>\n",
              "      <td id=\"T_a9ba6_row4_col3\" class=\"data row4 col3\" >0.8708</td>\n",
              "      <td id=\"T_a9ba6_row4_col4\" class=\"data row4 col4\" >0.8577</td>\n",
              "    </tr>\n",
              "    <tr>\n",
              "      <td id=\"T_a9ba6_row5_col0\" class=\"data row5 col0\" >6</td>\n",
              "      <td id=\"T_a9ba6_row5_col1\" class=\"data row5 col1\" >0.7697</td>\n",
              "      <td id=\"T_a9ba6_row5_col2\" class=\"data row5 col2\" >0.7802</td>\n",
              "      <td id=\"T_a9ba6_row5_col3\" class=\"data row5 col3\" >0.8738</td>\n",
              "      <td id=\"T_a9ba6_row5_col4\" class=\"data row5 col4\" >0.8584</td>\n",
              "    </tr>\n",
              "    <tr>\n",
              "      <td id=\"T_a9ba6_row6_col0\" class=\"data row6 col0\" >7</td>\n",
              "      <td id=\"T_a9ba6_row6_col1\" class=\"data row6 col1\" >0.7680</td>\n",
              "      <td id=\"T_a9ba6_row6_col2\" class=\"data row6 col2\" >0.7798</td>\n",
              "      <td id=\"T_a9ba6_row6_col3\" class=\"data row6 col3\" >0.8767</td>\n",
              "      <td id=\"T_a9ba6_row6_col4\" class=\"data row6 col4\" >0.8597</td>\n",
              "    </tr>\n",
              "    <tr>\n",
              "      <td id=\"T_a9ba6_row7_col0\" class=\"data row7 col0\" >8</td>\n",
              "      <td id=\"T_a9ba6_row7_col1\" class=\"data row7 col1\" >0.7666</td>\n",
              "      <td id=\"T_a9ba6_row7_col2\" class=\"data row7 col2\" >0.7794</td>\n",
              "      <td id=\"T_a9ba6_row7_col3\" class=\"data row7 col3\" >0.8795</td>\n",
              "      <td id=\"T_a9ba6_row7_col4\" class=\"data row7 col4\" >0.8614</td>\n",
              "    </tr>\n",
              "    <tr>\n",
              "      <td id=\"T_a9ba6_row8_col0\" class=\"data row8 col0\" >9</td>\n",
              "      <td id=\"T_a9ba6_row8_col1\" class=\"data row8 col1\" >0.7654</td>\n",
              "      <td id=\"T_a9ba6_row8_col2\" class=\"data row8 col2\" >0.7791</td>\n",
              "      <td id=\"T_a9ba6_row8_col3\" class=\"data row8 col3\" >0.8817</td>\n",
              "      <td id=\"T_a9ba6_row8_col4\" class=\"data row8 col4\" >0.8629</td>\n",
              "    </tr>\n",
              "    <tr>\n",
              "      <td id=\"T_a9ba6_row9_col0\" class=\"data row9 col0\" >10</td>\n",
              "      <td id=\"T_a9ba6_row9_col1\" class=\"data row9 col1\" >0.7642</td>\n",
              "      <td id=\"T_a9ba6_row9_col2\" class=\"data row9 col2\" >0.7787</td>\n",
              "      <td id=\"T_a9ba6_row9_col3\" class=\"data row9 col3\" >0.8835</td>\n",
              "      <td id=\"T_a9ba6_row9_col4\" class=\"data row9 col4\" >0.8635</td>\n",
              "    </tr>\n",
              "    <tr>\n",
              "      <td id=\"T_a9ba6_row10_col0\" class=\"data row10 col0\" >11</td>\n",
              "      <td id=\"T_a9ba6_row10_col1\" class=\"data row10 col1\" >0.7632</td>\n",
              "      <td id=\"T_a9ba6_row10_col2\" class=\"data row10 col2\" >0.7784</td>\n",
              "      <td id=\"T_a9ba6_row10_col3\" class=\"data row10 col3\" >0.8856</td>\n",
              "      <td id=\"T_a9ba6_row10_col4\" class=\"data row10 col4\" >0.8649</td>\n",
              "    </tr>\n",
              "    <tr>\n",
              "      <td id=\"T_a9ba6_row11_col0\" class=\"data row11 col0\" >12</td>\n",
              "      <td id=\"T_a9ba6_row11_col1\" class=\"data row11 col1\" >0.7622</td>\n",
              "      <td id=\"T_a9ba6_row11_col2\" class=\"data row11 col2\" >0.7782</td>\n",
              "      <td id=\"T_a9ba6_row11_col3\" class=\"data row11 col3\" >0.8880</td>\n",
              "      <td id=\"T_a9ba6_row11_col4\" class=\"data row11 col4\" >0.8656</td>\n",
              "    </tr>\n",
              "    <tr>\n",
              "      <td id=\"T_a9ba6_row12_col0\" class=\"data row12 col0\" >13</td>\n",
              "      <td id=\"T_a9ba6_row12_col1\" class=\"data row12 col1\" >0.7612</td>\n",
              "      <td id=\"T_a9ba6_row12_col2\" class=\"data row12 col2\" >0.7781</td>\n",
              "      <td id=\"T_a9ba6_row12_col3\" class=\"data row12 col3\" >0.8896</td>\n",
              "      <td id=\"T_a9ba6_row12_col4\" class=\"data row12 col4\" >0.8670</td>\n",
              "    </tr>\n",
              "    <tr>\n",
              "      <td id=\"T_a9ba6_row13_col0\" class=\"data row13 col0\" >14</td>\n",
              "      <td id=\"T_a9ba6_row13_col1\" class=\"data row13 col1\" >0.7604</td>\n",
              "      <td id=\"T_a9ba6_row13_col2\" class=\"data row13 col2\" >0.7781</td>\n",
              "      <td id=\"T_a9ba6_row13_col3\" class=\"data row13 col3\" >0.8911</td>\n",
              "      <td id=\"T_a9ba6_row13_col4\" class=\"data row13 col4\" >0.8673</td>\n",
              "    </tr>\n",
              "    <tr>\n",
              "      <td id=\"T_a9ba6_row14_col0\" class=\"data row14 col0\" >15</td>\n",
              "      <td id=\"T_a9ba6_row14_col1\" class=\"data row14 col1\" >0.7596</td>\n",
              "      <td id=\"T_a9ba6_row14_col2\" class=\"data row14 col2\" >0.7781</td>\n",
              "      <td id=\"T_a9ba6_row14_col3\" class=\"data row14 col3\" >0.8930</td>\n",
              "      <td id=\"T_a9ba6_row14_col4\" class=\"data row14 col4\" >0.8677</td>\n",
              "    </tr>\n",
              "  </tbody>\n",
              "</table>\n"
            ]
          },
          "metadata": {}
        },
        {
          "output_type": "stream",
          "name": "stdout",
          "text": [
            "0.8677\n"
          ]
        },
        {
          "output_type": "display_data",
          "data": {
            "text/plain": [
              "<pandas.io.formats.style.Styler at 0x79f0bc979000>"
            ],
            "text/html": [
              "<style type=\"text/css\">\n",
              "#T_61859_row0_col0, #T_61859_row0_col1, #T_61859_row0_col2, #T_61859_row0_col3, #T_61859_row0_col4, #T_61859_row1_col0, #T_61859_row1_col1, #T_61859_row1_col2, #T_61859_row1_col3, #T_61859_row1_col4, #T_61859_row2_col0, #T_61859_row2_col1, #T_61859_row2_col2, #T_61859_row2_col3, #T_61859_row2_col4, #T_61859_row3_col0, #T_61859_row3_col1, #T_61859_row3_col2, #T_61859_row3_col3, #T_61859_row3_col4, #T_61859_row4_col0, #T_61859_row4_col1, #T_61859_row4_col2, #T_61859_row4_col3, #T_61859_row4_col4, #T_61859_row5_col0, #T_61859_row5_col1, #T_61859_row5_col2, #T_61859_row5_col3, #T_61859_row5_col4, #T_61859_row6_col0, #T_61859_row6_col1, #T_61859_row6_col2, #T_61859_row6_col3, #T_61859_row6_col4, #T_61859_row7_col0, #T_61859_row7_col1, #T_61859_row7_col2, #T_61859_row7_col3, #T_61859_row7_col4, #T_61859_row8_col0, #T_61859_row8_col1, #T_61859_row8_col2, #T_61859_row8_col3, #T_61859_row8_col4, #T_61859_row9_col0, #T_61859_row9_col1, #T_61859_row9_col2, #T_61859_row9_col3, #T_61859_row9_col4, #T_61859_row10_col0, #T_61859_row10_col1, #T_61859_row10_col2, #T_61859_row10_col3, #T_61859_row10_col4, #T_61859_row11_col0, #T_61859_row11_col1, #T_61859_row11_col2, #T_61859_row11_col3, #T_61859_row11_col4, #T_61859_row12_col0, #T_61859_row12_col1, #T_61859_row12_col2, #T_61859_row12_col3, #T_61859_row12_col4, #T_61859_row13_col0, #T_61859_row13_col1, #T_61859_row13_col2, #T_61859_row13_col3, #T_61859_row13_col4, #T_61859_row14_col0, #T_61859_row14_col1, #T_61859_row14_col2, #T_61859_row14_col3, #T_61859_row14_col4 {\n",
              "  text-align: left;\n",
              "}\n",
              "</style>\n",
              "<table id=\"T_61859\" class=\"dataframe\">\n",
              "  <caption>Metrics of MLP fitting over epochs</caption>\n",
              "  <thead>\n",
              "    <tr>\n",
              "      <th id=\"T_61859_level0_col0\" class=\"col_heading level0 col0\" >Epochs</th>\n",
              "      <th id=\"T_61859_level0_col1\" class=\"col_heading level0 col1\" >Training Loss</th>\n",
              "      <th id=\"T_61859_level0_col2\" class=\"col_heading level0 col2\" >Test Loss</th>\n",
              "      <th id=\"T_61859_level0_col3\" class=\"col_heading level0 col3\" >Training Accuracy</th>\n",
              "      <th id=\"T_61859_level0_col4\" class=\"col_heading level0 col4\" >Test Accuracy</th>\n",
              "    </tr>\n",
              "  </thead>\n",
              "  <tbody>\n",
              "    <tr>\n",
              "      <td id=\"T_61859_row0_col0\" class=\"data row0 col0\" >1</td>\n",
              "      <td id=\"T_61859_row0_col1\" class=\"data row0 col1\" >0.3020</td>\n",
              "      <td id=\"T_61859_row0_col2\" class=\"data row0 col2\" >0.2433</td>\n",
              "      <td id=\"T_61859_row0_col3\" class=\"data row0 col3\" >0.7943</td>\n",
              "      <td id=\"T_61859_row0_col4\" class=\"data row0 col4\" >0.8278</td>\n",
              "    </tr>\n",
              "    <tr>\n",
              "      <td id=\"T_61859_row1_col0\" class=\"data row1 col0\" >2</td>\n",
              "      <td id=\"T_61859_row1_col1\" class=\"data row1 col1\" >0.2145</td>\n",
              "      <td id=\"T_61859_row1_col2\" class=\"data row1 col2\" >0.2210</td>\n",
              "      <td id=\"T_61859_row1_col3\" class=\"data row1 col3\" >0.8492</td>\n",
              "      <td id=\"T_61859_row1_col4\" class=\"data row1 col4\" >0.8430</td>\n",
              "    </tr>\n",
              "    <tr>\n",
              "      <td id=\"T_61859_row2_col0\" class=\"data row2 col0\" >3</td>\n",
              "      <td id=\"T_61859_row2_col1\" class=\"data row2 col1\" >0.1955</td>\n",
              "      <td id=\"T_61859_row2_col2\" class=\"data row2 col2\" >0.2103</td>\n",
              "      <td id=\"T_61859_row2_col3\" class=\"data row2 col3\" >0.8626</td>\n",
              "      <td id=\"T_61859_row2_col4\" class=\"data row2 col4\" >0.8491</td>\n",
              "    </tr>\n",
              "    <tr>\n",
              "      <td id=\"T_61859_row3_col0\" class=\"data row3 col0\" >4</td>\n",
              "      <td id=\"T_61859_row3_col1\" class=\"data row3 col1\" >0.1839</td>\n",
              "      <td id=\"T_61859_row3_col2\" class=\"data row3 col2\" >0.2032</td>\n",
              "      <td id=\"T_61859_row3_col3\" class=\"data row3 col3\" >0.8697</td>\n",
              "      <td id=\"T_61859_row3_col4\" class=\"data row3 col4\" >0.8543</td>\n",
              "    </tr>\n",
              "    <tr>\n",
              "      <td id=\"T_61859_row4_col0\" class=\"data row4 col0\" >5</td>\n",
              "      <td id=\"T_61859_row4_col1\" class=\"data row4 col1\" >0.1755</td>\n",
              "      <td id=\"T_61859_row4_col2\" class=\"data row4 col2\" >0.1982</td>\n",
              "      <td id=\"T_61859_row4_col3\" class=\"data row4 col3\" >0.8747</td>\n",
              "      <td id=\"T_61859_row4_col4\" class=\"data row4 col4\" >0.8581</td>\n",
              "    </tr>\n",
              "    <tr>\n",
              "      <td id=\"T_61859_row5_col0\" class=\"data row5 col0\" >6</td>\n",
              "      <td id=\"T_61859_row5_col1\" class=\"data row5 col1\" >0.1688</td>\n",
              "      <td id=\"T_61859_row5_col2\" class=\"data row5 col2\" >0.1943</td>\n",
              "      <td id=\"T_61859_row5_col3\" class=\"data row5 col3\" >0.8792</td>\n",
              "      <td id=\"T_61859_row5_col4\" class=\"data row5 col4\" >0.8617</td>\n",
              "    </tr>\n",
              "    <tr>\n",
              "      <td id=\"T_61859_row6_col0\" class=\"data row6 col0\" >7</td>\n",
              "      <td id=\"T_61859_row6_col1\" class=\"data row6 col1\" >0.1633</td>\n",
              "      <td id=\"T_61859_row6_col2\" class=\"data row6 col2\" >0.1910</td>\n",
              "      <td id=\"T_61859_row6_col3\" class=\"data row6 col3\" >0.8827</td>\n",
              "      <td id=\"T_61859_row6_col4\" class=\"data row6 col4\" >0.8642</td>\n",
              "    </tr>\n",
              "    <tr>\n",
              "      <td id=\"T_61859_row7_col0\" class=\"data row7 col0\" >8</td>\n",
              "      <td id=\"T_61859_row7_col1\" class=\"data row7 col1\" >0.1584</td>\n",
              "      <td id=\"T_61859_row7_col2\" class=\"data row7 col2\" >0.1883</td>\n",
              "      <td id=\"T_61859_row7_col3\" class=\"data row7 col3\" >0.8864</td>\n",
              "      <td id=\"T_61859_row7_col4\" class=\"data row7 col4\" >0.8661</td>\n",
              "    </tr>\n",
              "    <tr>\n",
              "      <td id=\"T_61859_row8_col0\" class=\"data row8 col0\" >9</td>\n",
              "      <td id=\"T_61859_row8_col1\" class=\"data row8 col1\" >0.1541</td>\n",
              "      <td id=\"T_61859_row8_col2\" class=\"data row8 col2\" >0.1860</td>\n",
              "      <td id=\"T_61859_row8_col3\" class=\"data row8 col3\" >0.8896</td>\n",
              "      <td id=\"T_61859_row8_col4\" class=\"data row8 col4\" >0.8686</td>\n",
              "    </tr>\n",
              "    <tr>\n",
              "      <td id=\"T_61859_row9_col0\" class=\"data row9 col0\" >10</td>\n",
              "      <td id=\"T_61859_row9_col1\" class=\"data row9 col1\" >0.1502</td>\n",
              "      <td id=\"T_61859_row9_col2\" class=\"data row9 col2\" >0.1840</td>\n",
              "      <td id=\"T_61859_row9_col3\" class=\"data row9 col3\" >0.8924</td>\n",
              "      <td id=\"T_61859_row9_col4\" class=\"data row9 col4\" >0.8697</td>\n",
              "    </tr>\n",
              "    <tr>\n",
              "      <td id=\"T_61859_row10_col0\" class=\"data row10 col0\" >11</td>\n",
              "      <td id=\"T_61859_row10_col1\" class=\"data row10 col1\" >0.1466</td>\n",
              "      <td id=\"T_61859_row10_col2\" class=\"data row10 col2\" >0.1822</td>\n",
              "      <td id=\"T_61859_row10_col3\" class=\"data row10 col3\" >0.8948</td>\n",
              "      <td id=\"T_61859_row10_col4\" class=\"data row10 col4\" >0.8700</td>\n",
              "    </tr>\n",
              "    <tr>\n",
              "      <td id=\"T_61859_row11_col0\" class=\"data row11 col0\" >12</td>\n",
              "      <td id=\"T_61859_row11_col1\" class=\"data row11 col1\" >0.1433</td>\n",
              "      <td id=\"T_61859_row11_col2\" class=\"data row11 col2\" >0.1808</td>\n",
              "      <td id=\"T_61859_row11_col3\" class=\"data row11 col3\" >0.8974</td>\n",
              "      <td id=\"T_61859_row11_col4\" class=\"data row11 col4\" >0.8707</td>\n",
              "    </tr>\n",
              "    <tr>\n",
              "      <td id=\"T_61859_row12_col0\" class=\"data row12 col0\" >13</td>\n",
              "      <td id=\"T_61859_row12_col1\" class=\"data row12 col1\" >0.1402</td>\n",
              "      <td id=\"T_61859_row12_col2\" class=\"data row12 col2\" >0.1794</td>\n",
              "      <td id=\"T_61859_row12_col3\" class=\"data row12 col3\" >0.8994</td>\n",
              "      <td id=\"T_61859_row12_col4\" class=\"data row12 col4\" >0.8722</td>\n",
              "    </tr>\n",
              "    <tr>\n",
              "      <td id=\"T_61859_row13_col0\" class=\"data row13 col0\" >14</td>\n",
              "      <td id=\"T_61859_row13_col1\" class=\"data row13 col1\" >0.1373</td>\n",
              "      <td id=\"T_61859_row13_col2\" class=\"data row13 col2\" >0.1782</td>\n",
              "      <td id=\"T_61859_row13_col3\" class=\"data row13 col3\" >0.9014</td>\n",
              "      <td id=\"T_61859_row13_col4\" class=\"data row13 col4\" >0.8733</td>\n",
              "    </tr>\n",
              "    <tr>\n",
              "      <td id=\"T_61859_row14_col0\" class=\"data row14 col0\" >15</td>\n",
              "      <td id=\"T_61859_row14_col1\" class=\"data row14 col1\" >0.1346</td>\n",
              "      <td id=\"T_61859_row14_col2\" class=\"data row14 col2\" >0.1772</td>\n",
              "      <td id=\"T_61859_row14_col3\" class=\"data row14 col3\" >0.9037</td>\n",
              "      <td id=\"T_61859_row14_col4\" class=\"data row14 col4\" >0.8737</td>\n",
              "    </tr>\n",
              "  </tbody>\n",
              "</table>\n"
            ]
          },
          "metadata": {}
        },
        {
          "output_type": "stream",
          "name": "stdout",
          "text": [
            "0.8737\n"
          ]
        },
        {
          "output_type": "display_data",
          "data": {
            "text/plain": [
              "<pandas.io.formats.style.Styler at 0x79f0bc97af50>"
            ],
            "text/html": [
              "<style type=\"text/css\">\n",
              "#T_d414c_row0_col0, #T_d414c_row0_col1, #T_d414c_row0_col2, #T_d414c_row0_col3, #T_d414c_row0_col4, #T_d414c_row1_col0, #T_d414c_row1_col1, #T_d414c_row1_col2, #T_d414c_row1_col3, #T_d414c_row1_col4, #T_d414c_row2_col0, #T_d414c_row2_col1, #T_d414c_row2_col2, #T_d414c_row2_col3, #T_d414c_row2_col4, #T_d414c_row3_col0, #T_d414c_row3_col1, #T_d414c_row3_col2, #T_d414c_row3_col3, #T_d414c_row3_col4, #T_d414c_row4_col0, #T_d414c_row4_col1, #T_d414c_row4_col2, #T_d414c_row4_col3, #T_d414c_row4_col4, #T_d414c_row5_col0, #T_d414c_row5_col1, #T_d414c_row5_col2, #T_d414c_row5_col3, #T_d414c_row5_col4, #T_d414c_row6_col0, #T_d414c_row6_col1, #T_d414c_row6_col2, #T_d414c_row6_col3, #T_d414c_row6_col4, #T_d414c_row7_col0, #T_d414c_row7_col1, #T_d414c_row7_col2, #T_d414c_row7_col3, #T_d414c_row7_col4, #T_d414c_row8_col0, #T_d414c_row8_col1, #T_d414c_row8_col2, #T_d414c_row8_col3, #T_d414c_row8_col4, #T_d414c_row9_col0, #T_d414c_row9_col1, #T_d414c_row9_col2, #T_d414c_row9_col3, #T_d414c_row9_col4, #T_d414c_row10_col0, #T_d414c_row10_col1, #T_d414c_row10_col2, #T_d414c_row10_col3, #T_d414c_row10_col4, #T_d414c_row11_col0, #T_d414c_row11_col1, #T_d414c_row11_col2, #T_d414c_row11_col3, #T_d414c_row11_col4, #T_d414c_row12_col0, #T_d414c_row12_col1, #T_d414c_row12_col2, #T_d414c_row12_col3, #T_d414c_row12_col4, #T_d414c_row13_col0, #T_d414c_row13_col1, #T_d414c_row13_col2, #T_d414c_row13_col3, #T_d414c_row13_col4, #T_d414c_row14_col0, #T_d414c_row14_col1, #T_d414c_row14_col2, #T_d414c_row14_col3, #T_d414c_row14_col4 {\n",
              "  text-align: left;\n",
              "}\n",
              "</style>\n",
              "<table id=\"T_d414c\" class=\"dataframe\">\n",
              "  <caption>Metrics of MLP fitting over epochs</caption>\n",
              "  <thead>\n",
              "    <tr>\n",
              "      <th id=\"T_d414c_level0_col0\" class=\"col_heading level0 col0\" >Epochs</th>\n",
              "      <th id=\"T_d414c_level0_col1\" class=\"col_heading level0 col1\" >Training Loss</th>\n",
              "      <th id=\"T_d414c_level0_col2\" class=\"col_heading level0 col2\" >Test Loss</th>\n",
              "      <th id=\"T_d414c_level0_col3\" class=\"col_heading level0 col3\" >Training Accuracy</th>\n",
              "      <th id=\"T_d414c_level0_col4\" class=\"col_heading level0 col4\" >Test Accuracy</th>\n",
              "    </tr>\n",
              "  </thead>\n",
              "  <tbody>\n",
              "    <tr>\n",
              "      <td id=\"T_d414c_row0_col0\" class=\"data row0 col0\" >1</td>\n",
              "      <td id=\"T_d414c_row0_col1\" class=\"data row0 col1\" >0.5734</td>\n",
              "      <td id=\"T_d414c_row0_col2\" class=\"data row0 col2\" >0.5293</td>\n",
              "      <td id=\"T_d414c_row0_col3\" class=\"data row0 col3\" >0.7670</td>\n",
              "      <td id=\"T_d414c_row0_col4\" class=\"data row0 col4\" >0.8292</td>\n",
              "    </tr>\n",
              "    <tr>\n",
              "      <td id=\"T_d414c_row1_col0\" class=\"data row1 col0\" >2</td>\n",
              "      <td id=\"T_d414c_row1_col1\" class=\"data row1 col1\" >0.5098</td>\n",
              "      <td id=\"T_d414c_row1_col2\" class=\"data row1 col2\" >0.5142</td>\n",
              "      <td id=\"T_d414c_row1_col3\" class=\"data row1 col3\" >0.8511</td>\n",
              "      <td id=\"T_d414c_row1_col4\" class=\"data row1 col4\" >0.8460</td>\n",
              "    </tr>\n",
              "    <tr>\n",
              "      <td id=\"T_d414c_row2_col0\" class=\"data row2 col0\" >3</td>\n",
              "      <td id=\"T_d414c_row2_col1\" class=\"data row2 col1\" >0.4960</td>\n",
              "      <td id=\"T_d414c_row2_col2\" class=\"data row2 col2\" >0.5079</td>\n",
              "      <td id=\"T_d414c_row2_col3\" class=\"data row2 col3\" >0.8640</td>\n",
              "      <td id=\"T_d414c_row2_col4\" class=\"data row2 col4\" >0.8549</td>\n",
              "    </tr>\n",
              "    <tr>\n",
              "      <td id=\"T_d414c_row3_col0\" class=\"data row3 col0\" >4</td>\n",
              "      <td id=\"T_d414c_row3_col1\" class=\"data row3 col1\" >0.4881</td>\n",
              "      <td id=\"T_d414c_row3_col2\" class=\"data row3 col2\" >0.5043</td>\n",
              "      <td id=\"T_d414c_row3_col3\" class=\"data row3 col3\" >0.8722</td>\n",
              "      <td id=\"T_d414c_row3_col4\" class=\"data row3 col4\" >0.8609</td>\n",
              "    </tr>\n",
              "    <tr>\n",
              "      <td id=\"T_d414c_row4_col0\" class=\"data row4 col0\" >5</td>\n",
              "      <td id=\"T_d414c_row4_col1\" class=\"data row4 col1\" >0.4825</td>\n",
              "      <td id=\"T_d414c_row4_col2\" class=\"data row4 col2\" >0.5021</td>\n",
              "      <td id=\"T_d414c_row4_col3\" class=\"data row4 col3\" >0.8776</td>\n",
              "      <td id=\"T_d414c_row4_col4\" class=\"data row4 col4\" >0.8637</td>\n",
              "    </tr>\n",
              "    <tr>\n",
              "      <td id=\"T_d414c_row5_col0\" class=\"data row5 col0\" >6</td>\n",
              "      <td id=\"T_d414c_row5_col1\" class=\"data row5 col1\" >0.4780</td>\n",
              "      <td id=\"T_d414c_row5_col2\" class=\"data row5 col2\" >0.5008</td>\n",
              "      <td id=\"T_d414c_row5_col3\" class=\"data row5 col3\" >0.8822</td>\n",
              "      <td id=\"T_d414c_row5_col4\" class=\"data row5 col4\" >0.8649</td>\n",
              "    </tr>\n",
              "    <tr>\n",
              "      <td id=\"T_d414c_row6_col0\" class=\"data row6 col0\" >7</td>\n",
              "      <td id=\"T_d414c_row6_col1\" class=\"data row6 col1\" >0.4743</td>\n",
              "      <td id=\"T_d414c_row6_col2\" class=\"data row6 col2\" >0.4999</td>\n",
              "      <td id=\"T_d414c_row6_col3\" class=\"data row6 col3\" >0.8856</td>\n",
              "      <td id=\"T_d414c_row6_col4\" class=\"data row6 col4\" >0.8647</td>\n",
              "    </tr>\n",
              "    <tr>\n",
              "      <td id=\"T_d414c_row7_col0\" class=\"data row7 col0\" >8</td>\n",
              "      <td id=\"T_d414c_row7_col1\" class=\"data row7 col1\" >0.4710</td>\n",
              "      <td id=\"T_d414c_row7_col2\" class=\"data row7 col2\" >0.4994</td>\n",
              "      <td id=\"T_d414c_row7_col3\" class=\"data row7 col3\" >0.8886</td>\n",
              "      <td id=\"T_d414c_row7_col4\" class=\"data row7 col4\" >0.8651</td>\n",
              "    </tr>\n",
              "    <tr>\n",
              "      <td id=\"T_d414c_row8_col0\" class=\"data row8 col0\" >9</td>\n",
              "      <td id=\"T_d414c_row8_col1\" class=\"data row8 col1\" >0.4681</td>\n",
              "      <td id=\"T_d414c_row8_col2\" class=\"data row8 col2\" >0.4989</td>\n",
              "      <td id=\"T_d414c_row8_col3\" class=\"data row8 col3\" >0.8920</td>\n",
              "      <td id=\"T_d414c_row8_col4\" class=\"data row8 col4\" >0.8659</td>\n",
              "    </tr>\n",
              "    <tr>\n",
              "      <td id=\"T_d414c_row9_col0\" class=\"data row9 col0\" >10</td>\n",
              "      <td id=\"T_d414c_row9_col1\" class=\"data row9 col1\" >0.4655</td>\n",
              "      <td id=\"T_d414c_row9_col2\" class=\"data row9 col2\" >0.4984</td>\n",
              "      <td id=\"T_d414c_row9_col3\" class=\"data row9 col3\" >0.8946</td>\n",
              "      <td id=\"T_d414c_row9_col4\" class=\"data row9 col4\" >0.8675</td>\n",
              "    </tr>\n",
              "    <tr>\n",
              "      <td id=\"T_d414c_row10_col0\" class=\"data row10 col0\" >11</td>\n",
              "      <td id=\"T_d414c_row10_col1\" class=\"data row10 col1\" >0.4631</td>\n",
              "      <td id=\"T_d414c_row10_col2\" class=\"data row10 col2\" >0.4980</td>\n",
              "      <td id=\"T_d414c_row10_col3\" class=\"data row10 col3\" >0.8970</td>\n",
              "      <td id=\"T_d414c_row10_col4\" class=\"data row10 col4\" >0.8687</td>\n",
              "    </tr>\n",
              "    <tr>\n",
              "      <td id=\"T_d414c_row11_col0\" class=\"data row11 col0\" >12</td>\n",
              "      <td id=\"T_d414c_row11_col1\" class=\"data row11 col1\" >0.4609</td>\n",
              "      <td id=\"T_d414c_row11_col2\" class=\"data row11 col2\" >0.4977</td>\n",
              "      <td id=\"T_d414c_row11_col3\" class=\"data row11 col3\" >0.8991</td>\n",
              "      <td id=\"T_d414c_row11_col4\" class=\"data row11 col4\" >0.8689</td>\n",
              "    </tr>\n",
              "    <tr>\n",
              "      <td id=\"T_d414c_row12_col0\" class=\"data row12 col0\" >13</td>\n",
              "      <td id=\"T_d414c_row12_col1\" class=\"data row12 col1\" >0.4589</td>\n",
              "      <td id=\"T_d414c_row12_col2\" class=\"data row12 col2\" >0.4975</td>\n",
              "      <td id=\"T_d414c_row12_col3\" class=\"data row12 col3\" >0.9011</td>\n",
              "      <td id=\"T_d414c_row12_col4\" class=\"data row12 col4\" >0.8695</td>\n",
              "    </tr>\n",
              "    <tr>\n",
              "      <td id=\"T_d414c_row13_col0\" class=\"data row13 col0\" >14</td>\n",
              "      <td id=\"T_d414c_row13_col1\" class=\"data row13 col1\" >0.4569</td>\n",
              "      <td id=\"T_d414c_row13_col2\" class=\"data row13 col2\" >0.4973</td>\n",
              "      <td id=\"T_d414c_row13_col3\" class=\"data row13 col3\" >0.9028</td>\n",
              "      <td id=\"T_d414c_row13_col4\" class=\"data row13 col4\" >0.8699</td>\n",
              "    </tr>\n",
              "    <tr>\n",
              "      <td id=\"T_d414c_row14_col0\" class=\"data row14 col0\" >15</td>\n",
              "      <td id=\"T_d414c_row14_col1\" class=\"data row14 col1\" >0.4552</td>\n",
              "      <td id=\"T_d414c_row14_col2\" class=\"data row14 col2\" >0.4971</td>\n",
              "      <td id=\"T_d414c_row14_col3\" class=\"data row14 col3\" >0.9044</td>\n",
              "      <td id=\"T_d414c_row14_col4\" class=\"data row14 col4\" >0.8714</td>\n",
              "    </tr>\n",
              "  </tbody>\n",
              "</table>\n"
            ]
          },
          "metadata": {}
        },
        {
          "output_type": "stream",
          "name": "stdout",
          "text": [
            "0.8714\n"
          ]
        }
      ],
      "source": [
        "# Test 3 models\n",
        "\n",
        "model = MLP(activation_function=\"sigmoid\", num_hidden=1, size_hidden=[128], learning_rate=1, random_state=100)\n",
        "model.fit(X=train_data, X_test=test_data, y=train_labels, y_test=test_labels, epochs=15, verbose=True)\n",
        "predictions = model.predict(X=test_data)\n",
        "print(model.evaluate_acc(predictions, test_labels.numpy()))\n",
        "\n",
        "model = MLP(activation_function=\"relu\", num_hidden=1, size_hidden=[128], learning_rate=0.005, random_state=100)\n",
        "model.fit(X=train_data, X_test=test_data, y=train_labels, y_test=test_labels, epochs=15, verbose=True)\n",
        "predictions = model.predict(X=test_data)\n",
        "print(model.evaluate_acc(predictions, test_labels.numpy()))\n",
        "\n",
        "model = MLP(activation_function=\"tanh\", num_hidden=1, size_hidden=[128], learning_rate=0.05, random_state=100)\n",
        "model.fit(X=train_data, X_test=test_data, y=train_labels, y_test=test_labels, epochs=15, verbose=True)\n",
        "predictions = model.predict(X=test_data)\n",
        "print(model.evaluate_acc(predictions, test_labels.numpy()))"
      ]
    },
    {
      "cell_type": "code",
      "execution_count": null,
      "metadata": {
        "id": "xeliVYNpqmGy",
        "colab": {
          "base_uri": "https://localhost:8080/",
          "height": 1000
        },
        "outputId": "82da1c7c-01ab-460e-cb21-723d4e48d34a"
      },
      "outputs": [
        {
          "output_type": "display_data",
          "data": {
            "text/plain": [
              "<Figure size 600x600 with 1 Axes>"
            ],
            "image/png": "[encoded data removed]"
          },
          "metadata": {}
        },
        {
          "output_type": "display_data",
          "data": {
            "text/plain": [
              "<Figure size 1500x500 with 2 Axes>"
            ],
            "image/png": "[encoded data removed]"
          },
          "metadata": {}
        }
      ],
      "source": [
        "test_conf_matrix = confusion_matrix(test_labels, predictions, [i for i in range(10)])\n",
        "print_confusion_matrix(test_conf_matrix, \"Confusion matrix of test data of MLP\")\n",
        "\n",
        "fig,ax = plt.subplots(1, 2, figsize=(15,5))\n",
        "epochs_range = range(model.epochs)\n",
        "\n",
        "# Plot of training and test loss over epochs\n",
        "ax[0].plot(epochs_range, model.train_loss, label=\"Train loss\")\n",
        "ax[0].plot(epochs_range, model.test_loss, label=\"Test loss\")\n",
        "ax[0].legend()\n",
        "ax[0].set_title(\"Plot of training and test loss over epochs\")\n",
        "ax[0].set_xlabel(\"Epoch\")\n",
        "ax[0].set_ylabel(\"Loss\")\n",
        "ax[0].xaxis.set_major_locator(MaxNLocator(integer=True))\n",
        "ax[0].grid()\n",
        "\n",
        "# Plot of training and test accuracy over epochs\n",
        "ax[1].plot(epochs_range, model.train_acc,label=\"Train acc\")\n",
        "ax[1].plot(epochs_range, model.test_acc,label=\"Test acc\")\n",
        "ax[1].legend()\n",
        "ax[1].set_title(\"Plot of training and test accuracy over epochs\")\n",
        "ax[1].set_xlabel(\"Epoch\")\n",
        "ax[1].set_ylabel(\"Accuracy\")\n",
        "ax[1].xaxis.set_major_locator(MaxNLocator(integer=True))\n",
        "ax[1].grid()"
      ]
    },
    {
      "cell_type": "markdown",
      "metadata": {
        "id": "l89Cha5yisoW"
      },
      "source": [
        "**Optimize the hyperparameters**\n",
        "\n",
        "---\n",
        "\n",
        "Let's optimize the learning rate and the learning rate decay using exaustive grid search and 10 epochs.\n",
        "\n",
        "This is a function to perform the optimization with a simple parameters grid."
      ]
    },
    {
      "cell_type": "code",
      "execution_count": null,
      "metadata": {
        "id": "GaX5rjVkjX4f"
      },
      "outputs": [],
      "source": [
        "def find_best_learning_params(activation_function, num_hidden, size_hidden):\n",
        "\n",
        "  param_grid = {'learning_rate': [1, 0.5, 0.1, 0.05, 0.01, 0.005, 0.001, 0.0005, 0.0001, 0.00005, 0.00001],\n",
        "                'learning_rate_decay': [0, 0.01, 0.001, 0.0001, 0.00001]}\n",
        "\n",
        "  best_acc = 0\n",
        "  best_parameters = {'learning_rate': None,\n",
        "                      'learning_rate_decay': None}\n",
        "\n",
        "  # Iterate through all combinations of hyperparameters\n",
        "  for learning_rate in param_grid['learning_rate']:\n",
        "    for learning_rate_decay in param_grid['learning_rate_decay']:\n",
        "      model = MLP(activation_function=activation_function, num_hidden=num_hidden, size_hidden=size_hidden, learning_rate=learning_rate, learning_rate_decay=learning_rate_decay, random_state=100)\n",
        "      model.fit(X=train_data, X_test=test_data, y=train_labels, y_test=test_labels, epochs=10, early_exit=0.5)\n",
        "      predictions = model.predict(X=test_data)\n",
        "      acc = model.evaluate_acc(predictions, test_labels.numpy())\n",
        "\n",
        "      # Check if the current combination is the best so far\n",
        "      if acc > best_acc:\n",
        "        best_acc = acc\n",
        "        best_parameters = {\n",
        "          'learning_rate': learning_rate,\n",
        "          'learning_rate_decay': learning_rate_decay\n",
        "        }\n",
        "  return best_parameters, best_acc"
      ]
    },
    {
      "cell_type": "code",
      "source": [
        "warnings.filterwarnings('ignore')"
      ],
      "metadata": {
        "id": "KXp-pYS7MOfB"
      },
      "execution_count": null,
      "outputs": []
    },
    {
      "cell_type": "code",
      "execution_count": null,
      "metadata": {
        "id": "nX44IxMkzFog",
        "colab": {
          "base_uri": "https://localhost:8080/",
          "height": 81
        },
        "outputId": "40fa535d-8fbd-4e0f-c994-c18f7b261395"
      },
      "outputs": [
        {
          "output_type": "display_data",
          "data": {
            "text/plain": [
              "<IPython.core.display.Markdown object>"
            ],
            "text/markdown": "**ReLu 0 hidden layer:**"
          },
          "metadata": {}
        },
        {
          "output_type": "stream",
          "name": "stdout",
          "text": [
            "Best Parameters: {'learning_rate': 0.01, 'learning_rate_decay': 0.01}\n",
            "Best Accuracy: 0.8418\n"
          ]
        }
      ],
      "source": [
        "best_params, best_acc = find_best_learning_params('relu', 0, [])\n",
        "# Print the best parameters and best accuracy\n",
        "display(Markdown(\"**ReLu 0 hidden layer:**\"))\n",
        "print(\"Best Parameters:\", best_params)\n",
        "print(\"Best Accuracy:\", best_acc)"
      ]
    },
    {
      "cell_type": "code",
      "execution_count": null,
      "metadata": {
        "id": "Qa7iBRlizFya",
        "colab": {
          "base_uri": "https://localhost:8080/",
          "height": 81
        },
        "outputId": "378006a0-59ba-49a9-b179-69d6c7ae2ffa"
      },
      "outputs": [
        {
          "output_type": "display_data",
          "data": {
            "text/plain": [
              "<IPython.core.display.Markdown object>"
            ],
            "text/markdown": "**ReLu 1 hidden layer:**"
          },
          "metadata": {}
        },
        {
          "output_type": "stream",
          "name": "stdout",
          "text": [
            "Best Parameters: {'learning_rate': 0.01, 'learning_rate_decay': 0}\n",
            "Best Accuracy: 0.8747\n"
          ]
        }
      ],
      "source": [
        "best_params, best_acc = find_best_learning_params('relu', 1, [128])\n",
        "# Print the best parameters and best accuracy\n",
        "display(Markdown(\"**ReLu 1 hidden layer:**\"))\n",
        "print(\"Best Parameters:\", best_params)\n",
        "print(\"Best Accuracy:\", best_acc)"
      ]
    },
    {
      "cell_type": "code",
      "execution_count": null,
      "metadata": {
        "id": "OVi3x25qzFfp",
        "colab": {
          "base_uri": "https://localhost:8080/",
          "height": 81
        },
        "outputId": "a7315a63-8f6d-4692-f1e6-084c74d5868d"
      },
      "outputs": [
        {
          "output_type": "display_data",
          "data": {
            "text/plain": [
              "<IPython.core.display.Markdown object>"
            ],
            "text/markdown": "**ReLu 2 hidden layers:**"
          },
          "metadata": {}
        },
        {
          "output_type": "stream",
          "name": "stdout",
          "text": [
            "Best Parameters: {'learning_rate': 0.005, 'learning_rate_decay': 0.01}\n",
            "Best Accuracy: 0.8739\n"
          ]
        }
      ],
      "source": [
        "best_params, best_acc = find_best_learning_params('relu', 2, [128, 128])\n",
        "# Print the best parameters and best accuracy\n",
        "display(Markdown(\"**ReLu 2 hidden layers:**\"))\n",
        "print(\"Best Parameters:\", best_params)\n",
        "print(\"Best Accuracy:\", best_acc)"
      ]
    },
    {
      "cell_type": "code",
      "execution_count": null,
      "metadata": {
        "id": "gZunhAM6m0BB",
        "colab": {
          "base_uri": "https://localhost:8080/",
          "height": 81
        },
        "outputId": "ccc0fe39-bcef-4042-8936-cdfab3f34a41"
      },
      "outputs": [
        {
          "output_type": "display_data",
          "data": {
            "text/plain": [
              "<IPython.core.display.Markdown object>"
            ],
            "text/markdown": "**Sigmoid 2 hidden layers:**"
          },
          "metadata": {}
        },
        {
          "output_type": "stream",
          "name": "stdout",
          "text": [
            "Best Parameters: {'learning_rate': 1, 'learning_rate_decay': 0.0001}\n",
            "Best Accuracy: 0.8662\n"
          ]
        }
      ],
      "source": [
        "best_params, best_acc = find_best_learning_params('sigmoid', 2, [128, 128])\n",
        "# Print the best parameters and best accuracy\n",
        "display(Markdown(\"**Sigmoid 2 hidden layers:**\"))\n",
        "print(\"Best Parameters:\", best_params)\n",
        "print(\"Best Accuracy:\", best_acc)"
      ]
    },
    {
      "cell_type": "code",
      "execution_count": null,
      "metadata": {
        "id": "Sy-BehZazFvj",
        "colab": {
          "base_uri": "https://localhost:8080/",
          "height": 81
        },
        "outputId": "98148beb-7beb-49c7-f949-3653c0e7ff1e"
      },
      "outputs": [
        {
          "output_type": "display_data",
          "data": {
            "text/plain": [
              "<IPython.core.display.Markdown object>"
            ],
            "text/markdown": "**Tanh 2 hidden layer:**"
          },
          "metadata": {}
        },
        {
          "output_type": "stream",
          "name": "stdout",
          "text": [
            "Best Parameters: {'learning_rate': 0.1, 'learning_rate_decay': 0.01}\n",
            "Best Accuracy: 0.8723\n"
          ]
        }
      ],
      "source": [
        "best_params, best_acc = find_best_learning_params('tanh', 2, [128, 128])\n",
        "# Print the best parameters and best accuracy\n",
        "display(Markdown(\"**Tanh 2 hidden layer:**\"))\n",
        "print(\"Best Parameters:\", best_params)\n",
        "print(\"Best Accuracy:\", best_acc)"
      ]
    },
    {
      "cell_type": "code",
      "source": [
        "warnings.filterwarnings('default')"
      ],
      "metadata": {
        "id": "M_QxuTW3MPeQ"
      },
      "execution_count": null,
      "outputs": []
    },
    {
      "cell_type": "markdown",
      "metadata": {
        "id": "HiqKKwduPNeG"
      },
      "source": [
        "## Task 3 Run the experiments and report\n",
        "\n",
        "The goal of the experiments in this part is to have you explore the consequences of important decisions made while\n",
        "training neural networks. Split the dataset into training and test sets. Use test set to estimate performance in all of the\n",
        "experiments after training the model with training set. Evaluate the performance using accuracy. You are welcome\n",
        "to perform any experiments and analyses you see fit (e.g., the effect of data augmentation / dropout regularization /\n",
        "number of hidden layers / . . . on accuracy), but at a minimum you must complete the following experiments in the\n",
        "order stated below:"
      ]
    },
    {
      "cell_type": "markdown",
      "metadata": {
        "id": "He-6IZ2pyjrS"
      },
      "source": [
        "###1.\n",
        "First of all, experiment with initializing your model weights in a few different ways. Create several MLPs with\n",
        "a single hidden layer having 128 units, initializing the weights as <br>\n",
        "(1) all zeros\n",
        "(2) Uniform [-1, 1]\n",
        "(3) Gaussian N(0,1)\n",
        "(4) Xavier\n",
        "(5) Kaiming.\n",
        "After training these models, compare the effect of weight initialization on the training curves and test accuracy on the Fashion MNIST dataset."
      ]
    },
    {
      "cell_type": "code",
      "execution_count": null,
      "metadata": {
        "id": "UL9geSn4iUVw",
        "colab": {
          "base_uri": "https://localhost:8080/",
          "height": 133
        },
        "outputId": "c8d39950-5876-4dff-ce6f-ecb3880f873f"
      },
      "outputs": [
        {
          "output_type": "display_data",
          "data": {
            "text/plain": [
              "<IPython.core.display.Markdown object>"
            ],
            "text/markdown": "**Accuracy of models with different weights initialization techniques**"
          },
          "metadata": {}
        },
        {
          "output_type": "stream",
          "name": "stdout",
          "text": [
            "All zeros:  0.1\n",
            "Uniform:  0.7373\n",
            "Gaussian:  0.7507\n",
            "Xavier:  0.8742\n",
            "Kaiming:  0.8769\n"
          ]
        }
      ],
      "source": [
        "# Set the same parameters for all model\n",
        "activation_function = \"relu\"\n",
        "num_hidden = 1\n",
        "size_hidden = [128]\n",
        "learning_rate = 0.01\n",
        "learning_rate_decay = 0.01\n",
        "epochs = 10\n",
        "random_state = 100\n",
        "\n",
        "display(Markdown(\"**Accuracy of models with different weights initialization techniques**\"))\n",
        "\n",
        "# (1) All zeros\n",
        "model = MLP(activation_function, num_hidden, size_hidden, learning_rate, learning_rate_decay=learning_rate_decay, weight_init=\"zeros\", random_state=random_state)\n",
        "model.fit(train_data, test_data, train_labels, test_labels, epochs)\n",
        "predictions = model.predict(test_data)\n",
        "acc = model.evaluate_acc(predictions, test_labels.numpy())\n",
        "print(\"All zeros: \", acc)\n",
        "\n",
        "# (2) Uniform [-1, 1]\n",
        "model = MLP(activation_function, num_hidden, size_hidden, learning_rate, learning_rate_decay=learning_rate_decay, weight_init=\"uniform\", random_state=random_state)\n",
        "model.fit(train_data, test_data, train_labels, test_labels, epochs)\n",
        "predictions = model.predict(test_data)\n",
        "acc = model.evaluate_acc(predictions, test_labels.numpy())\n",
        "print(\"Uniform: \", acc)\n",
        "\n",
        "# (3) Gaussian N(0, 1)\n",
        "model = MLP(activation_function, num_hidden, size_hidden, learning_rate, learning_rate_decay=learning_rate_decay, weight_init=\"gaussian\", random_state=random_state)\n",
        "model.fit(train_data, test_data, train_labels, test_labels, epochs)\n",
        "predictions = model.predict(test_data)\n",
        "acc = model.evaluate_acc(predictions, test_labels.numpy())\n",
        "print(\"Gaussian: \", acc)\n",
        "\n",
        "# (4) Normalized Xavier\n",
        "model = MLP(activation_function, num_hidden, size_hidden, learning_rate, learning_rate_decay=learning_rate_decay, weight_init=\"xavier\", random_state=random_state)\n",
        "model.fit(train_data, test_data, train_labels, test_labels, epochs)\n",
        "predictions = model.predict(test_data)\n",
        "acc = model.evaluate_acc(predictions, test_labels.numpy())\n",
        "print(\"Xavier: \", acc)\n",
        "\n",
        "# (5) Kaiming\n",
        "model = MLP(activation_function, num_hidden, size_hidden, learning_rate, learning_rate_decay=learning_rate_decay, weight_init=\"kaiming\", random_state=random_state)\n",
        "model.fit(train_data, test_data, train_labels, test_labels, epochs)\n",
        "predictions = model.predict(test_data)\n",
        "acc = model.evaluate_acc(predictions, test_labels.numpy())\n",
        "print(\"Kaiming: \", acc)"
      ]
    },
    {
      "cell_type": "markdown",
      "metadata": {
        "id": "UVBnELvty5he"
      },
      "source": [
        "###2.\n",
        "Create three different models:\n",
        "(1) an MLP with no hidden layers, i.e., it directly maps the inputs to outputs,\n",
        "(2)an MLP with a single hidden layer having 128 units and ReLU activations,\n",
        "(3) an MLP with 2 hidden layers\n",
        "each having 128 units with ReLU activations. It should be noted that since we want to perform classification, all\n",
        "of these models should have a softmax layer at the end. After training, compare the test accuracy of these three\n",
        "models on the Fashion MNIST dataset. Comment on how non-linearity and network depth affects the accuracy.\n",
        "Are the results that you obtain expected?"
      ]
    },
    {
      "cell_type": "code",
      "execution_count": null,
      "metadata": {
        "id": "UNjUDUvjkB5V",
        "colab": {
          "base_uri": "https://localhost:8080/",
          "height": 98
        },
        "outputId": "257c5e80-8d76-4ec1-b316-4c89fc98427f"
      },
      "outputs": [
        {
          "output_type": "display_data",
          "data": {
            "text/plain": [
              "<IPython.core.display.Markdown object>"
            ],
            "text/markdown": "**Accuracy of models with 0, 1 and 2 hidden layers (using optimized hyperparameters)**"
          },
          "metadata": {}
        },
        {
          "output_type": "stream",
          "name": "stdout",
          "text": [
            "0 hidden layer:  0.8412\n",
            "1 hidden layer:  0.8742\n",
            "2 hidden layers:  0.8731\n"
          ]
        }
      ],
      "source": [
        "# Set the same parameters for all model\n",
        "activation_function = \"relu\"\n",
        "epochs = 10\n",
        "random_state=100\n",
        "\n",
        "display(Markdown(\"**Accuracy of models with 0, 1 and 2 hidden layers (using optimized hyperparameters)**\"))\n",
        "\n",
        "# (1) MLP with no hidden layers\n",
        "model = MLP(activation_function, num_hidden=0, size_hidden=[], learning_rate=0.01, learning_rate_decay=0.001, random_state=random_state)\n",
        "model.fit(train_data, test_data, train_labels, test_labels, epochs)\n",
        "predictions = model.predict(X=test_data)\n",
        "acc = model.evaluate_acc(predictions, test_labels.numpy())\n",
        "print(\"0 hidden layer: \", acc)\n",
        "\n",
        "# (2) MLP with 1 hidden layers of 128 units, ReLu activation function\n",
        "model = MLP(activation_function, num_hidden=1, size_hidden=[128], learning_rate=0.01, learning_rate_decay=0.01, random_state=random_state)\n",
        "model.fit(train_data, test_data, train_labels, test_labels, epochs)\n",
        "predictions = model.predict(X=test_data)\n",
        "acc = model.evaluate_acc(predictions, test_labels.numpy())\n",
        "print(\"1 hidden layer: \", acc)\n",
        "\n",
        "# (3) MLP with 2 hidden layers of 128 units, ReLu activation function\n",
        "model = MLP(activation_function, num_hidden=2, size_hidden=[128, 128], learning_rate=0.005, learning_rate_decay=0.001, random_state=random_state)\n",
        "model.fit(train_data, test_data, train_labels, test_labels, epochs)\n",
        "predictions = model.predict(X=test_data)\n",
        "relu_2h_acc = model.evaluate_acc(predictions, test_labels.numpy())\n",
        "print(\"2 hidden layers: \", relu_2h_acc)"
      ]
    },
    {
      "cell_type": "markdown",
      "metadata": {
        "id": "HNDGQDwyy9-j"
      },
      "source": [
        "###3.\n",
        "Take the last model above, the one with 2 hidden layers, and create two different copies of it in which you pick\n",
        "two activations of your choice (except ReLU) from the course slides. After training these two models on Fashion\n",
        "MNIST compare their test accuracies with the model with ReLU activations. Comment on the performances of\n",
        "these models: which one is better and why? Are certain activations better than others? If the results are not as\n",
        "you expected, what could be the reason?\n"
      ]
    },
    {
      "cell_type": "code",
      "execution_count": null,
      "metadata": {
        "id": "vklLgIK0Iczm",
        "colab": {
          "base_uri": "https://localhost:8080/",
          "height": 98
        },
        "outputId": "d235adce-7961-4dd1-ffa5-da3c858630fc"
      },
      "outputs": [
        {
          "output_type": "display_data",
          "data": {
            "text/plain": [
              "<IPython.core.display.Markdown object>"
            ],
            "text/markdown": "**Accuracy of models with ReLu, sigmoid and tanh activation functions**"
          },
          "metadata": {}
        },
        {
          "output_type": "stream",
          "name": "stdout",
          "text": [
            "ReLu:  0.8731\n",
            "Sigmoid:  0.8655\n",
            "Tanh:  0.8711\n"
          ]
        }
      ],
      "source": [
        "# Set the same parameters for all model\n",
        "epochs = 10\n",
        "\n",
        "display(Markdown(\"**Accuracy of models with ReLu, sigmoid and tanh activation functions**\"))\n",
        "\n",
        "print(\"ReLu: \", relu_2h_acc)\n",
        "\n",
        "# Sigmoid\n",
        "model = MLP(activation_function=\"sigmoid\", num_hidden=2, size_hidden=[128, 128], learning_rate=1, learning_rate_decay=1e-05, random_state=random_state)\n",
        "model.fit(X=train_data, X_test=test_data, y=train_labels, y_test=test_labels, epochs=epochs)\n",
        "predictions = model.predict(X=test_data)\n",
        "acc = model.evaluate_acc(predictions, test_labels.numpy())\n",
        "print(\"Sigmoid: \", acc)\n",
        "\n",
        "# Tanh\n",
        "model = MLP(activation_function=\"tanh\", num_hidden=2, size_hidden=[128, 128], learning_rate=0.1, learning_rate_decay=0.001, random_state=random_state)\n",
        "model.fit(X=train_data, X_test=test_data, y=train_labels, y_test=test_labels, epochs=epochs)\n",
        "predictions = model.predict(X=test_data)\n",
        "acc = model.evaluate_acc(predictions, test_labels.numpy())\n",
        "print(\"Tanh: \", acc)"
      ]
    },
    {
      "cell_type": "markdown",
      "metadata": {
        "id": "OM_EeQOvzCjE"
      },
      "source": [
        "###4.\n",
        "Create an MLP with 2 hidden layers each having 128 units with ReLU activations as above.\n",
        "However, this\n",
        "time, independently add L1 and L2 regularization to the network and train the MLP in this way. How do theseregularizations affect the accuracy? (This proportion can be varied as a tunable hyperparameter that can be\n",
        "explored as part of other project requirements)"
      ]
    },
    {
      "cell_type": "code",
      "source": [
        "def find_best_reg_params(param_grid):\n",
        "\n",
        "  best_acc = 0\n",
        "  best_parameters = {'l1': None,\n",
        "                      'l2': None}\n",
        "\n",
        "  # Iterate through all combinations of hyperparameters\n",
        "  for l1 in param_grid['l1']:\n",
        "    for l2 in param_grid['l2']:\n",
        "      model = MLP(activation_function='relu', num_hidden=2, size_hidden=[128,128], learning_rate=0.005, learning_rate_decay=0.001, l1=l1, l2=l2, random_state=100)\n",
        "      model.fit(X=train_data, X_test=test_data, y=train_labels, y_test=test_labels, epochs=10, early_exit=0.5)\n",
        "      predictions = model.predict(X=test_data)\n",
        "      acc = model.evaluate_acc(predictions, test_labels.numpy())\n",
        "\n",
        "      # Check if the current combination is the best so far\n",
        "      if acc > best_acc:\n",
        "        best_acc = acc\n",
        "        best_parameters = {\n",
        "          'l1': l1,\n",
        "          'l2': l2\n",
        "        }\n",
        "  return best_parameters, best_acc"
      ],
      "metadata": {
        "id": "hEKsRFwnNMVC"
      },
      "execution_count": null,
      "outputs": []
    },
    {
      "cell_type": "code",
      "source": [
        "param_grid = {'l1': [1, 0.5, 0.1, 0.05, 0.01, 0.005, 0.001, 0.0005, 0.0001, 0.00005, 0.00001],\n",
        "              'l2': [0]}\n",
        "\n",
        "best_params, best_acc = find_best_reg_params(param_grid)\n",
        "# Print the best parameters and best accuracy\n",
        "display(Markdown(\"**Only L1:**\"))\n",
        "print(\"Best Parameters:\", best_params)\n",
        "print(\"Best Accuracy:\", best_acc)"
      ],
      "metadata": {
        "id": "byygkci1NVaY",
        "colab": {
          "base_uri": "https://localhost:8080/",
          "height": 151
        },
        "outputId": "901b52f0-1a01-4799-c92b-a66d5ddf799f"
      },
      "execution_count": null,
      "outputs": [
        {
          "output_type": "stream",
          "name": "stderr",
          "text": [
            "<ipython-input-11-dcf917bf192e>:85: RuntimeWarning: invalid value encountered in multiply\n",
            "  dy = self.activation_prime(x) * (np.dot(dy, self.weights[-i].T))\n",
            "<ipython-input-11-dcf917bf192e>:37: RuntimeWarning: invalid value encountered in subtract\n",
            "  exp_z = np.exp(z - np.amax(z, axis=1, keepdims=True))      # Remove the max value to prevent overflow\n"
          ]
        },
        {
          "output_type": "display_data",
          "data": {
            "text/plain": [
              "<IPython.core.display.Markdown object>"
            ],
            "text/markdown": "**Only L1:**"
          },
          "metadata": {}
        },
        {
          "output_type": "stream",
          "name": "stdout",
          "text": [
            "Best Parameters: {'l1': 5e-05, 'l2': 0}\n",
            "Best Accuracy: 0.8742\n"
          ]
        }
      ]
    },
    {
      "cell_type": "code",
      "source": [
        "param_grid = {'l1': [0],\n",
        "              'l2': [1, 0.5, 0.1, 0.05, 0.01, 0.005, 0.001, 0.0005, 0.0001, 0.00005, 0.00001]}\n",
        "\n",
        "best_params, best_acc = find_best_reg_params(param_grid)\n",
        "# Print the best parameters and best accuracy\n",
        "display(Markdown(\"**Only L2:**\"))\n",
        "print(\"Best Parameters:\", best_params)\n",
        "print(\"Best Accuracy:\", best_acc)"
      ],
      "metadata": {
        "id": "vvS4Ml5nPQKG",
        "colab": {
          "base_uri": "https://localhost:8080/",
          "height": 151
        },
        "outputId": "7b86cf4b-0cbb-4bbd-bf8e-a184f3668196"
      },
      "execution_count": null,
      "outputs": [
        {
          "output_type": "stream",
          "name": "stderr",
          "text": [
            "<ipython-input-11-dcf917bf192e>:85: RuntimeWarning: invalid value encountered in multiply\n",
            "  dy = self.activation_prime(x) * (np.dot(dy, self.weights[-i].T))\n",
            "<ipython-input-11-dcf917bf192e>:37: RuntimeWarning: invalid value encountered in subtract\n",
            "  exp_z = np.exp(z - np.amax(z, axis=1, keepdims=True))      # Remove the max value to prevent overflow\n"
          ]
        },
        {
          "output_type": "display_data",
          "data": {
            "text/plain": [
              "<IPython.core.display.Markdown object>"
            ],
            "text/markdown": "**Only L2:**"
          },
          "metadata": {}
        },
        {
          "output_type": "stream",
          "name": "stdout",
          "text": [
            "Best Parameters: {'l1': 0, 'l2': 1e-05}\n",
            "Best Accuracy: 0.8721\n"
          ]
        }
      ]
    },
    {
      "cell_type": "code",
      "source": [
        "param_grid = {'l1': [0.0005, 0.0001, 0.00005,0.00001],\n",
        "              'l2': [0.0005, 0.0001, 0.00005, 0.00001, 0.000005, 0.000001]}\n",
        "\n",
        "best_params, best_acc = find_best_reg_params(param_grid)\n",
        "# Print the best parameters and best accuracy\n",
        "display(Markdown(\"**L1 and L2:**\"))\n",
        "print(\"Best Parameters:\", best_params)\n",
        "print(\"Best Accuracy:\", best_acc)"
      ],
      "metadata": {
        "id": "G6vkBv25PQtq",
        "colab": {
          "base_uri": "https://localhost:8080/",
          "height": 151
        },
        "outputId": "39889e5d-73ef-40c0-fb4f-a6e6ecf2a75f"
      },
      "execution_count": null,
      "outputs": [
        {
          "output_type": "stream",
          "name": "stderr",
          "text": [
            "<ipython-input-11-dcf917bf192e>:85: RuntimeWarning: invalid value encountered in multiply\n",
            "  dy = self.activation_prime(x) * (np.dot(dy, self.weights[-i].T))\n",
            "<ipython-input-11-dcf917bf192e>:37: RuntimeWarning: invalid value encountered in subtract\n",
            "  exp_z = np.exp(z - np.amax(z, axis=1, keepdims=True))      # Remove the max value to prevent overflow\n"
          ]
        },
        {
          "output_type": "display_data",
          "data": {
            "text/plain": [
              "<IPython.core.display.Markdown object>"
            ],
            "text/markdown": "**L1 and L2:**"
          },
          "metadata": {}
        },
        {
          "output_type": "stream",
          "name": "stdout",
          "text": [
            "Best Parameters: {'l1': 5e-05, 'l2': 1e-06}\n",
            "Best Accuracy: 0.8732\n"
          ]
        }
      ]
    },
    {
      "cell_type": "code",
      "execution_count": null,
      "metadata": {
        "id": "UPqoQL1_KAyZ",
        "colab": {
          "base_uri": "https://localhost:8080/",
          "height": 171
        },
        "outputId": "c564c137-81f7-4c75-ca23-0a5431aaddd1"
      },
      "outputs": [
        {
          "output_type": "stream",
          "name": "stderr",
          "text": [
            "/usr/local/lib/python3.10/dist-packages/ipykernel/ipkernel.py:283: DeprecationWarning: `should_run_async` will not call `transform_cell` automatically in the future. Please pass the result to `transformed_cell` argument and any exception that happen during thetransform in `preprocessing_exc_tuple` in IPython 7.17 and above.\n",
            "  and should_run_async(code)\n"
          ]
        },
        {
          "output_type": "display_data",
          "data": {
            "text/plain": [
              "<IPython.core.display.Markdown object>"
            ],
            "text/markdown": "**Accuracy of models with l1 and l2 independently**"
          },
          "metadata": {}
        },
        {
          "output_type": "stream",
          "name": "stdout",
          "text": [
            "Without regularization:  0.8731\n",
            "With l1 only:  0.8742\n",
            "with l2 only:  0.8721\n",
            "With l1 and l2:  0.8732\n"
          ]
        }
      ],
      "source": [
        "display(Markdown(\"**Accuracy of models with l1 and l2 independently**\"))\n",
        "\n",
        "print(\"Without regularization: \", relu_2h_acc)\n",
        "\n",
        "# L1 only\n",
        "model = MLP(activation_function, num_hidden=2, size_hidden=[128, 128], learning_rate=0.005, learning_rate_decay=0.001, random_state=random_state, l1=5e-05)\n",
        "model.fit(train_data, test_data, train_labels, test_labels, epochs)\n",
        "predictions = model.predict(X=test_data)\n",
        "acc = model.evaluate_acc(predictions, test_labels.numpy())\n",
        "print(\"With l1 only: \", acc)\n",
        "\n",
        "# L2 only\n",
        "model = MLP(activation_function, num_hidden=2, size_hidden=[128, 128], learning_rate=0.005, learning_rate_decay=0.001, random_state=random_state, l2=1e-05)\n",
        "model.fit(train_data, test_data, train_labels, test_labels, epochs)\n",
        "predictions = model.predict(X=test_data)\n",
        "acc = model.evaluate_acc(predictions, test_labels.numpy())\n",
        "print(\"with l2 only: \", acc)\n",
        "\n",
        "# L1 and L2\n",
        "model = MLP(activation_function, num_hidden=2, size_hidden=[128, 128], learning_rate=0.005, learning_rate_decay=0.001, random_state=random_state, l1=5e-05, l2=1e-06)\n",
        "model.fit(train_data, test_data, train_labels, test_labels, epochs)\n",
        "predictions = model.predict(X=test_data)\n",
        "acc = model.evaluate_acc(predictions, test_labels.numpy())\n",
        "print(\"With l1 and l2: \", acc)"
      ]
    },
    {
      "cell_type": "markdown",
      "metadata": {
        "id": "NDoRQAw8zJsH"
      },
      "source": [
        "###5.\n",
        "Create an MLP with 2 hidden layers each having 128 units with ReLU activations as above. However, this time,\n",
        "train it with unnormalized images. How does this affect the accuracy?\n"
      ]
    },
    {
      "cell_type": "code",
      "execution_count": null,
      "metadata": {
        "id": "GnErkcm5W2wt",
        "colab": {
          "base_uri": "https://localhost:8080/",
          "height": 81
        },
        "outputId": "29880101-f1f0-4118-e1ee-8df459d588bb"
      },
      "outputs": [
        {
          "output_type": "display_data",
          "data": {
            "text/plain": [
              "<IPython.core.display.Markdown object>"
            ],
            "text/markdown": "**Accuracy of models with normalized and unnormalized data**"
          },
          "metadata": {}
        },
        {
          "output_type": "stream",
          "name": "stdout",
          "text": [
            "Normalized:  0.8731\n",
            "Unnormalized:  0.8182\n"
          ]
        }
      ],
      "source": [
        "display(Markdown(\"**Accuracy of models with normalized and unnormalized data**\"))\n",
        "\n",
        "print(\"Normalized: \", relu_2h_acc)\n",
        "\n",
        "model = MLP(activation_function, num_hidden=2, size_hidden=[128, 128], learning_rate=0.001, learning_rate_decay=0.01, random_state=100)\n",
        "model.fit(train_data_raw, test_data_raw, train_labels_raw, test_labels_raw, epochs)\n",
        "predictions = model.predict(X=test_data_raw)\n",
        "acc = model.evaluate_acc(predictions, test_labels.numpy())\n",
        "print(\"Unnormalized: \", acc)"
      ]
    },
    {
      "cell_type": "markdown",
      "metadata": {
        "id": "jws9L8iDzPZm"
      },
      "source": [
        "###6.\n",
        "Using PyTorch, create a convolutional neural network (CNN) with 2 convolutional and 2 fully connected layers.\n",
        "Although you are free in your choice of the hyperparameters of the convolutional layers, set the number of units\n",
        "in the fully connected layers to be 128. Also, set the activations in all of the layers to be ReLU. Train this CNN\n",
        "on the Fashion MNIST dataset. Does using a CNN increase/decrease the accuracy compared to using MLPs?\n",
        "Provide comments on your results."
      ]
    },
    {
      "cell_type": "code",
      "execution_count": null,
      "metadata": {
        "id": "czfO-AOGksNQ"
      },
      "outputs": [],
      "source": [
        "import torch.nn as nn\n",
        "import torch.optim as optim\n",
        "\n",
        "# Setting up CUDA device for GPU training\n",
        "device = torch.device(\"cuda:0\" if torch.cuda.is_available() else \"cpu\")"
      ]
    },
    {
      "cell_type": "markdown",
      "metadata": {
        "id": "fkMoMaI1IUBs"
      },
      "source": [
        "**Defining CNN Model**"
      ]
    },
    {
      "cell_type": "code",
      "execution_count": null,
      "metadata": {
        "id": "n4jLFJefokMM"
      },
      "outputs": [],
      "source": [
        "#The difinition of the convolutional net work is inspired by\n",
        "#the official page of PyTorch and their way of defining a convolutional net wwrok\n",
        "#https://pytorch.org/tutorials/beginner/blitz/cifar10_tutorial.html\n",
        "\n",
        "class Net(nn.Module):\n",
        "  def __init__(self):\n",
        "    super(Net, self).__init__()\n",
        "\n",
        "    # Convolutional Layers\n",
        "    self.conv1 = nn.Conv2d(in_channels=1, out_channels=32, kernel_size=3, stride=1, padding=1)\n",
        "    self.conv2 = nn.Conv2d(in_channels=32, out_channels=64, kernel_size=3, stride=1, padding=1)\n",
        "\n",
        "    # Fully Connected Layers\n",
        "    self.fc1 = nn.Linear(64 * 7 * 7, 128)\n",
        "    self.fc2 = nn.Linear(128, 10)  # 10 classes in Fashion MNIST\n",
        "\n",
        "  def forward(self, x):\n",
        "    x = nn.functional.relu(self.conv1(x))\n",
        "    x = nn.functional.max_pool2d(x, kernel_size=2)\n",
        "\n",
        "    x = nn.functional.relu(self.conv2(x))\n",
        "    x = nn.functional.max_pool2d(x, kernel_size=2)\n",
        "\n",
        "    x = x.view(x.size(0), -1)  # Flatten the tensor\n",
        "\n",
        "    x = nn.functional.relu(self.fc1(x))\n",
        "    x = self.fc2(x)\n",
        "\n",
        "    return x\n",
        "\n",
        "model = Net().to(device)\n",
        "\n"
      ]
    },
    {
      "cell_type": "markdown",
      "metadata": {
        "id": "zx8UYqe0IYnl"
      },
      "source": [
        "**Training CNN model**"
      ]
    },
    {
      "cell_type": "code",
      "execution_count": null,
      "metadata": {
        "colab": {
          "base_uri": "https://localhost:8080/",
          "height": 646
        },
        "id": "82ZUzIOV2jsX",
        "outputId": "a9df323f-32c3-498f-84ef-a8dae8ad6a53"
      },
      "outputs": [
        {
          "output_type": "stream",
          "name": "stdout",
          "text": [
            "Epoch 1, Loss: 0.6563658005631793\n",
            "Epoch 2, Loss: 0.5401761709995891\n",
            "Epoch 3, Loss: 0.4675545323559124\n",
            "Epoch 4, Loss: 0.406847742251585\n",
            "Epoch 5, Loss: 0.3508751558621064\n",
            "Epoch 6, Loss: 0.30523514079437364\n",
            "Epoch 7, Loss: 0.25512228816535676\n",
            "Epoch 8, Loss: 0.2174151943906632\n",
            "Epoch 9, Loss: 0.18442147738522674\n",
            "Epoch 10, Loss: 0.15912487286907742\n"
          ]
        },
        {
          "output_type": "display_data",
          "data": {
            "text/plain": [
              "<Figure size 640x480 with 1 Axes>"
            ],
            "image/png": "[encoded data removed]"
          },
          "metadata": {}
        }
      ],
      "source": [
        "#reference: https://pyimagesearch.com/2021/07/19/pytorch-training-your-first-convolutional-neural-network-cnn/\n",
        "#https://pytorch.org/tutorials/beginner/blitz/cifar10_tutorial.html\n",
        "\n",
        "# Setting up the loss and optimizer\n",
        "criterion = nn.CrossEntropyLoss()\n",
        "#the two beta parameters in adams is implicitly set as\n",
        "#beta1 = 0.9 for the momentum term\n",
        "#beta2 = 0.999 for the RMSprop term\n",
        "optimizer = optim.Adam(model.parameters(), lr=0.001)\n",
        "\n",
        "# Initialize the epoch_losses list\n",
        "epoch_losses = []\n",
        "\n",
        "# Training Loop\n",
        "for epoch in range(10):  # Training for 10 epochs for demonstration\n",
        "    running_loss = 0.0\n",
        "    for i, data in enumerate(train_loader, 0):\n",
        "        inputs, labels = data[0].to(device), data[1].to(device)\n",
        "\n",
        "        # Zero the parameter gradients\n",
        "        optimizer.zero_grad()\n",
        "\n",
        "        # Forward, backward, and optimize\n",
        "        outputs = model(inputs)\n",
        "        #calculate the difference between the model's predictions and the actual data.\n",
        "        loss = criterion(outputs, labels)\n",
        "        loss.backward()\n",
        "        #update the model parameters using the information in the gradients.\n",
        "        optimizer.step()\n",
        "\n",
        "        running_loss += loss.item()\n",
        "\n",
        "    avg_loss = running_loss / len(trainloader)\n",
        "    epoch_losses.append(avg_loss)\n",
        "    print(f\"Epoch {epoch+1}, Loss: {avg_loss}\")\n",
        "\n",
        "\n",
        "# Plotting\n",
        "plt.plot(range(1, 11), epoch_losses)\n",
        "plt.xlabel('Epoch')\n",
        "plt.ylabel('Loss')\n",
        "plt.title('Loss vs Epochs')\n",
        "plt.show()\n"
      ]
    },
    {
      "cell_type": "markdown",
      "metadata": {
        "id": "6uwDUNakIgiM"
      },
      "source": [
        "**Evaluating the model's accuracy**\n"
      ]
    },
    {
      "cell_type": "code",
      "execution_count": null,
      "metadata": {
        "id": "zdryqMlXIfnY",
        "colab": {
          "base_uri": "https://localhost:8080/"
        },
        "outputId": "d9663554-a231-4f1b-8c74-4b187798dded"
      },
      "outputs": [
        {
          "output_type": "stream",
          "name": "stdout",
          "text": [
            "Accuracy of the model on the test images: 91.69%\n"
          ]
        }
      ],
      "source": [
        "#implementation inspired by: https://stackoverflow.com/questions/51503851/calculate-the-accuracy-every-epoch-in-pytorch\n",
        "correct = 0\n",
        "total = 0\n",
        "with torch.no_grad():\n",
        "    for data in test_loader:\n",
        "        images, labels = data[0].to(device), data[1].to(device)\n",
        "        outputs = model(images)\n",
        "        _, predicted = outputs.max(1)\n",
        "        total += labels.size(0)\n",
        "        correct += (predicted == labels).sum().item()\n",
        "\n",
        "print(f\"Accuracy of the model on the test images: {100 * correct / total}%\")\n"
      ]
    },
    {
      "cell_type": "markdown",
      "metadata": {
        "id": "MV-QxFzMzTox"
      },
      "source": [
        "###7.\n",
        "Now using the CIFAR-10 dataset, train an MLP using your implementation\n",
        "(with whatever layer dimensions\n",
        "you like), and a CNN with the same architecture restrictions as in (6). How does using a CNN increase/decrease\n",
        "the accuracy compared to using MLPs on this dataset?"
      ]
    },
    {
      "cell_type": "markdown",
      "source": [
        "Modified the previous find_best_learning_params and use it for CIFAR-10 datasets instead of the fashion MNIST data set and find the best parameters for the MLP training for CIFAR-10 dataset."
      ],
      "metadata": {
        "id": "qNmN1rTYB6a7"
      }
    },
    {
      "cell_type": "code",
      "execution_count": null,
      "metadata": {
        "id": "F_K-QmANwfwT"
      },
      "outputs": [],
      "source": [
        "mean = 0.5\n",
        "std = 0.5\n",
        "\n",
        "mean_tensor = torch.tensor([0.5])\n",
        "std_tensor = torch.tensor([0.5])\n",
        "\n",
        "def split_data_and_labels(dataloader, mean=None, std=None):\n",
        "  data = []\n",
        "  labels = []\n",
        "  for images, targets in dataloader:\n",
        "    # Vectorize the images\n",
        "    batch_size, num_channels, height, width = images.size()\n",
        "    images = images.view(batch_size, -1)\n",
        "    if mean is not None and std is not None:\n",
        "      # Normalize the images using the calculated mean and std\n",
        "      images = (images - mean.view(1, -1)) / std.view(1, -1)\n",
        "\n",
        "    data.append(images)\n",
        "    labels.append(targets)\n",
        "\n",
        "  data = torch.cat(data, dim=0)\n",
        "  labels = torch.cat(labels, dim=0)\n",
        "\n",
        "  return data, labels\n",
        "\n",
        "traindata, trainlabels = split_data_and_labels(trainloader, mean_tensor, std_tensor)\n",
        "testdata, testlabels = split_data_and_labels(testloader, mean_tensor, std_tensor)"
      ]
    },
    {
      "cell_type": "code",
      "source": [
        "def find_best_params_CIFARTEN(activation_function, num_hidden, size_hidden):\n",
        "\n",
        "  param_grid = {'learning_rate': [1, 0.5, 0.1, 0.05, 0.01, 0.005, 0.001, 0.0005, 0.0001, 0.00005, 0.00001],\n",
        "                'learning_rate_decay': [0, 0.01, 0.001, 0.0001, 0.00001]}\n",
        "\n",
        "  best_acc = 0\n",
        "  best_parameters = {'learning_rate': None,\n",
        "                      'learning_rate_decay': None}\n",
        "\n",
        "  # Iterate through all combinations of hyperparameters\n",
        "  for learning_rate in param_grid['learning_rate']:\n",
        "    for learning_rate_decay in param_grid['learning_rate_decay']:\n",
        "      model = MLP(activation_function=activation_function, num_hidden=num_hidden, size_hidden=size_hidden, learning_rate=learning_rate, learning_rate_decay=learning_rate_decay, random_state=100)\n",
        "      model.fit(X=traindata, X_test=testdata, y=trainlabels, y_test=testlabels, epochs=10, early_exit=0.5)\n",
        "      predictions = model.predict(X=testdata)\n",
        "      acc = model.evaluate_acc(predictions, testlabels.numpy())\n",
        "\n",
        "      # Check if the current combination is the best so far\n",
        "      if acc > best_acc:\n",
        "        best_acc = acc\n",
        "        best_parameters = {\n",
        "          'learning_rate': learning_rate,\n",
        "          'learning_rate_decay': learning_rate_decay\n",
        "        }\n",
        "  return best_parameters, best_acc"
      ],
      "metadata": {
        "id": "1AsjCuyvBZVh"
      },
      "execution_count": null,
      "outputs": []
    },
    {
      "cell_type": "code",
      "source": [
        "best_params, best_acc = find_best_params_CIFARTEN('sigmoid', 2, [128,128])\n",
        "# Print the best parameters and best accuracy\n",
        "display(Markdown(\"**Sigmoid 2 hidden layers:**\"))\n",
        "print(\"Best Parameters:\", best_params)\n",
        "print(\"Best Accuracy:\", best_acc)"
      ],
      "metadata": {
        "colab": {
          "base_uri": "https://localhost:8080/",
          "height": 83
        },
        "id": "ep-YPOCqKz0z",
        "outputId": "11d3919d-3c6f-467c-b636-777f746fabfe"
      },
      "execution_count": null,
      "outputs": [
        {
          "output_type": "display_data",
          "data": {
            "text/plain": [
              "<IPython.core.display.Markdown object>"
            ],
            "text/markdown": "**Sigmoid 2 hidden layers:**"
          },
          "metadata": {}
        },
        {
          "output_type": "stream",
          "name": "stdout",
          "text": [
            "Best Parameters: {'learning_rate': 0.5, 'learning_rate_decay': 0}\n",
            "Best Accuracy: 0.3599\n"
          ]
        }
      ]
    },
    {
      "cell_type": "code",
      "source": [
        "best_params, best_acc = find_best_params_CIFARTEN('relu', 2, [128,128])\n",
        "# Print the best parameters and best accuracy\n",
        "display(Markdown(\"**relu 2 hidden layers:**\"))\n",
        "print(\"Best Parameters:\", best_params)\n",
        "print(\"Best Accuracy:\", best_acc)"
      ],
      "metadata": {
        "colab": {
          "base_uri": "https://localhost:8080/",
          "height": 83
        },
        "id": "j8yg2y89ORvt",
        "outputId": "531d13bf-8f3c-41db-c765-1cccc5a3d7b7"
      },
      "execution_count": null,
      "outputs": [
        {
          "output_type": "display_data",
          "data": {
            "text/plain": [
              "<IPython.core.display.Markdown object>"
            ],
            "text/markdown": "**relu 2 hidden layers:**"
          },
          "metadata": {}
        },
        {
          "output_type": "stream",
          "name": "stdout",
          "text": [
            "Best Parameters: {'learning_rate': 0.001, 'learning_rate_decay': 0}\n",
            "Best Accuracy: 0.3885\n"
          ]
        }
      ]
    },
    {
      "cell_type": "code",
      "source": [
        "best_params, best_acc = find_best_params_CIFARTEN('tanh', 2, [128,128])\n",
        "# Print the best parameters and best accuracy\n",
        "display(Markdown(\"**relu 2 hidden layers:**\"))\n",
        "print(\"Best Parameters:\", best_params)\n",
        "print(\"Best Accuracy:\", best_acc)"
      ],
      "metadata": {
        "colab": {
          "base_uri": "https://localhost:8080/",
          "height": 83
        },
        "id": "YJNtlQTvSCRf",
        "outputId": "05301976-4d28-4232-f31f-d35244c49010"
      },
      "execution_count": null,
      "outputs": [
        {
          "output_type": "display_data",
          "data": {
            "text/plain": [
              "<IPython.core.display.Markdown object>"
            ],
            "text/markdown": "**relu 2 hidden layers:**"
          },
          "metadata": {}
        },
        {
          "output_type": "stream",
          "name": "stdout",
          "text": [
            "Best Parameters: {'learning_rate': 0.01, 'learning_rate_decay': 0}\n",
            "Best Accuracy: 0.3815\n"
          ]
        }
      ]
    },
    {
      "cell_type": "code",
      "source": [
        "best_params, best_acc = find_best_params_CIFARTEN('sigmoid', 1, [128])\n",
        "# Print the best parameters and best accuracy\n",
        "display(Markdown(\"**Sigmoid 1 hidden layers:**\"))\n",
        "print(\"Best Parameters:\", best_params)\n",
        "print(\"Best Accuracy:\", best_acc)"
      ],
      "metadata": {
        "colab": {
          "base_uri": "https://localhost:8080/",
          "height": 83
        },
        "id": "JgB8Rl44BpiS",
        "outputId": "3c7d09cc-c2e6-44b8-ba56-d372fa3fb18a"
      },
      "execution_count": null,
      "outputs": [
        {
          "output_type": "display_data",
          "data": {
            "text/plain": [
              "<IPython.core.display.Markdown object>"
            ],
            "text/markdown": "**Sigmoid 2 hidden layers:**"
          },
          "metadata": {}
        },
        {
          "output_type": "stream",
          "name": "stdout",
          "text": [
            "Best Parameters: {'learning_rate': 0.1, 'learning_rate_decay': 0}\n",
            "Best Accuracy: 0.3922\n"
          ]
        }
      ]
    },
    {
      "cell_type": "code",
      "source": [
        "best_params, best_acc = find_best_params_CIFARTEN('tanh', 1, [128])\n",
        "# Print the best parameters and best accuracy\n",
        "display(Markdown(\"**tanh 1 hidden layers:**\"))\n",
        "print(\"Best Parameters:\", best_params)\n",
        "print(\"Best Accuracy:\", best_acc)"
      ],
      "metadata": {
        "colab": {
          "base_uri": "https://localhost:8080/",
          "height": 83
        },
        "id": "Er5Mm83-WES8",
        "outputId": "9458daaf-ce6d-4527-ff27-93514a26a075"
      },
      "execution_count": null,
      "outputs": [
        {
          "output_type": "display_data",
          "data": {
            "text/plain": [
              "<IPython.core.display.Markdown object>"
            ],
            "text/markdown": "**tanh 1 hidden layers:**"
          },
          "metadata": {}
        },
        {
          "output_type": "stream",
          "name": "stdout",
          "text": [
            "Best Parameters: {'learning_rate': 0.01, 'learning_rate_decay': 0}\n",
            "Best Accuracy: 0.3791\n"
          ]
        }
      ]
    },
    {
      "cell_type": "code",
      "source": [
        "best_params, best_acc = find_best_params_CIFARTEN('relu', 1, [128])\n",
        "# Print the best parameters and best accuracy\n",
        "display(Markdown(\"**relu 1 hidden layers:**\"))\n",
        "print(\"Best Parameters:\", best_params)\n",
        "print(\"Best Accuracy:\", best_acc)"
      ],
      "metadata": {
        "colab": {
          "base_uri": "https://localhost:8080/",
          "height": 83
        },
        "id": "FvJsHN0rb9uK",
        "outputId": "07265b79-b7f9-47b4-9672-3ddf9f63ec98"
      },
      "execution_count": null,
      "outputs": [
        {
          "output_type": "display_data",
          "data": {
            "text/plain": [
              "<IPython.core.display.Markdown object>"
            ],
            "text/markdown": "**tanh 1 hidden layers:**"
          },
          "metadata": {}
        },
        {
          "output_type": "stream",
          "name": "stdout",
          "text": [
            "Best Parameters: {'learning_rate': 0.001, 'learning_rate_decay': 0}\n",
            "Best Accuracy: 0.3941\n"
          ]
        }
      ]
    },
    {
      "cell_type": "markdown",
      "source": [
        "So the one that has the highest accuracy is the one with the ReLU activation function with 1 layer and hidden size of [128]. The highest accuracy that is found with MLP is 0.3941."
      ],
      "metadata": {
        "id": "-kk4lGCSfYBJ"
      }
    },
    {
      "cell_type": "markdown",
      "metadata": {
        "id": "Y5-Qm0oVlDme"
      },
      "source": [
        "For a CNN, you would typically retain the 3D structure of the images and just normalize them"
      ]
    },
    {
      "cell_type": "code",
      "execution_count": null,
      "metadata": {
        "id": "rjy4yQUyllH5"
      },
      "outputs": [],
      "source": [
        "import torch\n",
        "import torchvision\n",
        "import torchvision.transforms as transforms\n",
        "import torch.nn.functional as F\n",
        "\n",
        "#this is an almost identical implementation as the one in Q3.6\n",
        "\n",
        "class CNN(nn.Module):\n",
        "    def __init__(self):\n",
        "        super(CNN, self).__init__()\n",
        "\n",
        "        #convolutional layers\n",
        "        #There are other implementation that is possible for this purpose\n",
        "        #But we are running out of time for the model to rerun so the alternative\n",
        "        #implementation is commented.\n",
        "        self.conv1 = nn.Conv2d(in_channels=3, out_channels=32, kernel_size=3, stride=1, padding=1)\n",
        "        #self.bn1 = nn.BatchNorm2d(32)\n",
        "        self.conv2 = nn.Conv2d(in_channels=32, out_channels=64, kernel_size=3, stride=1, padding=1)\n",
        "        #self.bn2 = nn.BatchNorm2d(64)\n",
        "        #The batch normalization can in fact improve the speed of the training and\n",
        "        #reduce the sensitivities\n",
        "        self.fc1 = nn.Linear(64 * 8 * 8, 128)\n",
        "        self.fc2 = nn.Linear(128, 10)\n",
        "\n",
        "    def forward(self, x):\n",
        "        #here, instead of only using relu, we could have implemented\n",
        "        #leaky relu, softmax, etc\n",
        "        #the fact that different non-linear activation function is involves\n",
        "        #will help the model captures more aspects of the input features.\n",
        "        #but this performs ok, so we did not change.\n",
        "        x = F.relu(self.conv1(x))\n",
        "        x = F.max_pool2d(x, 2)\n",
        "        x = F.relu(self.conv2(x))\n",
        "        x = F.max_pool2d(x, 2)\n",
        "        x = x.view(-1, 64 * 8 * 8)\n",
        "        x = F.relu(self.fc1(x))\n",
        "        x = self.fc2(x)\n",
        "        return x\n",
        "\n",
        "#We named each of the model differently since they used different optimizers.\n",
        "model_CNN = CNN().to(device)\n",
        "model_CNN_adams = CNN().to(device)\n",
        "model_CNN_SGD = CNN().to(device)\n",
        "model_CNN_SGD_moment = CNN().to(device)\n",
        "model_CNN_SGD_moment_high = CNN().to(device)"
      ]
    },
    {
      "cell_type": "code",
      "execution_count": null,
      "metadata": {
        "id": "Qp0jEbz0A7lQ",
        "colab": {
          "base_uri": "https://localhost:8080/",
          "height": 646
        },
        "outputId": "c01f1b1a-17bb-4256-e9ab-bb4857e0cd1b"
      },
      "outputs": [
        {
          "output_type": "stream",
          "name": "stdout",
          "text": [
            "Epoch 1, Loss: 1.3143745147816055\n",
            "Epoch 2, Loss: 0.9431742348939257\n",
            "Epoch 3, Loss: 0.7868088548598082\n",
            "Epoch 4, Loss: 0.6810822646178858\n",
            "Epoch 5, Loss: 0.587616565530105\n",
            "Epoch 6, Loss: 0.5043130443262323\n",
            "Epoch 7, Loss: 0.42523127464610905\n",
            "Epoch 8, Loss: 0.35791096016955193\n",
            "Epoch 9, Loss: 0.2853771568183094\n",
            "Epoch 10, Loss: 0.23147067041291147\n"
          ]
        },
        {
          "output_type": "display_data",
          "data": {
            "text/plain": [
              "<Figure size 640x480 with 1 Axes>"
            ],
            "image/png": "[encoded data removed]"
          },
          "metadata": {}
        }
      ],
      "source": [
        "# Setting up the loss and optimizer\n",
        "criterion = nn.CrossEntropyLoss()\n",
        "optimizer = optim.Adam(model_CNN.parameters(), lr=0.001)\n",
        "\n",
        "# Initialize list to store losses\n",
        "epoch_losses = []\n",
        "# Training Loop\n",
        "for epoch in range(10):  # Training for 10 epochs for demonstration\n",
        "    running_loss = 0.0\n",
        "    for i, data in enumerate(trainloader, 0):\n",
        "        inputs, labels = data[0].to(device), data[1].to(device)\n",
        "\n",
        "        # Zero the parameter gradients\n",
        "        optimizer.zero_grad()\n",
        "\n",
        "        # Forward, backward, and optimize\n",
        "        outputs = model_CNN(inputs)\n",
        "        loss = criterion(outputs, labels)\n",
        "        loss.backward()\n",
        "        optimizer.step()\n",
        "\n",
        "        running_loss += loss.item()\n",
        "\n",
        "    avg_loss = running_loss / len(trainloader)\n",
        "    epoch_losses.append(avg_loss)\n",
        "    print(f\"Epoch {epoch+1}, Loss: {avg_loss}\")\n",
        "\n",
        "\n",
        "# Plotting\n",
        "plt.plot(range(1, 11), epoch_losses)\n",
        "plt.xlabel('Epoch')\n",
        "plt.ylabel('Loss')\n",
        "plt.title('Loss vs Epochs')\n",
        "plt.show()\n"
      ]
    },
    {
      "cell_type": "code",
      "execution_count": null,
      "metadata": {
        "id": "FQvJGQ78BDBa",
        "colab": {
          "base_uri": "https://localhost:8080/"
        },
        "outputId": "e8acf99e-9235-4485-d2ca-a9532ca7992a"
      },
      "outputs": [
        {
          "output_type": "stream",
          "name": "stdout",
          "text": [
            "Accuracy of the model on the test images: 70.89%\n"
          ]
        }
      ],
      "source": [
        "correct = 0\n",
        "total = 0\n",
        "with torch.no_grad():\n",
        "    for data in testloader:\n",
        "        images, labels = data[0].to(device), data[1].to(device)\n",
        "        outputs = model_CNN(images)\n",
        "        _, predicted = outputs.max(1)\n",
        "        total += labels.size(0)\n",
        "        correct += (predicted == labels).sum().item()\n",
        "\n",
        "print(f\"Accuracy of the model on the test images: {100 * correct / total}%\")"
      ]
    },
    {
      "cell_type": "markdown",
      "metadata": {
        "id": "7O25OBupWbkm"
      },
      "source": [
        "The CIFAR-10 using CNN with the Adam optimizer takes 10 minutes to train."
      ]
    },
    {
      "cell_type": "markdown",
      "metadata": {
        "id": "xDnHA81AzV2t"
      },
      "source": [
        "###8.\n",
        "In your CNN implemented with PyTorch, investigate the effects of optimizer on performance on the CIFAR10 dataset.\n",
        "Using an SGD optimizer, set the momentum factor to zero, and then try to increase it. How does\n",
        "changing this value impact the training and performance of the network in terms of convergence speed, final\n",
        "accuracy, and stability? How do these compare if you instead use an Adam optimizer?"
      ]
    },
    {
      "cell_type": "code",
      "execution_count": null,
      "metadata": {
        "id": "gLbDcZY_AfLD",
        "colab": {
          "base_uri": "https://localhost:8080/",
          "height": 672
        },
        "outputId": "8be70200-e53a-41e6-f84b-c394f30a4355"
      },
      "outputs": [
        {
          "output_type": "stream",
          "name": "stdout",
          "text": [
            "Epoch 1, Loss: 0.7654945284814176\n",
            "Epoch 2, Loss: 0.6452936031248259\n",
            "Epoch 3, Loss: 0.5409853251465141\n",
            "Epoch 4, Loss: 0.4509056691852067\n",
            "Epoch 5, Loss: 0.3704220174104356\n",
            "Epoch 6, Loss: 0.28577497232314725\n",
            "Epoch 7, Loss: 0.22508286072127046\n",
            "Epoch 8, Loss: 0.17013792554750237\n",
            "Epoch 9, Loss: 0.14483385896572218\n",
            "Epoch 10, Loss: 0.12105822503862097\n"
          ]
        },
        {
          "output_type": "display_data",
          "data": {
            "text/plain": [
              "<Figure size 640x480 with 1 Axes>"
            ],
            "image/png": "[encoded data removed]"
          },
          "metadata": {}
        },
        {
          "output_type": "stream",
          "name": "stdout",
          "text": [
            "Finished Training CNN with Adams\n"
          ]
        }
      ],
      "source": [
        "# Setting up the loss and optimizer\n",
        "criterion = nn.CrossEntropyLoss()\n",
        "#this is the exact same implementation as the one in Q3.7\n",
        "#Since both of them uses adams\n",
        "optimizer = optim.Adam(model_CNN_adams.parameters(), lr=0.001)\n",
        "\n",
        "# Training Loop\n",
        "epoch_losses = []\n",
        "for epoch in range(10):  #The number of epoches can actually be optimized a bit more to 15.\n",
        "#but again, we do not have time to run on this version of the code since the results\n",
        "#are already shown in the report.\n",
        "    running_loss = 0.0\n",
        "    for i, data in enumerate(trainloader, 0):\n",
        "        inputs, labels = data[0].to(device), data[1].to(device)\n",
        "\n",
        "        # Zero the parameter gradients\n",
        "        optimizer.zero_grad()\n",
        "\n",
        "        # Forward, backward, and optimize\n",
        "        outputs = model_CNN_adams(inputs)\n",
        "        loss = criterion(outputs, labels)\n",
        "        loss.backward()\n",
        "        optimizer.step()\n",
        "\n",
        "        running_loss += loss.item()\n",
        "\n",
        "    avg_loss = running_loss / len(trainloader)\n",
        "    epoch_losses.append(avg_loss)\n",
        "    print(f\"Epoch {epoch+1}, Loss: {avg_loss}\")\n",
        "\n",
        "\n",
        "# Plotting\n",
        "plt.plot(range(1, 11), epoch_losses)\n",
        "plt.xlabel('Epoch')\n",
        "plt.ylabel('Loss')\n",
        "plt.title('Loss vs Epochs')\n",
        "plt.show()\n",
        "\n",
        "print(\"Finished Training CNN with Adams\")"
      ]
    },
    {
      "cell_type": "markdown",
      "source": [
        "The above takes 14 mins to train"
      ],
      "metadata": {
        "id": "WqdaTt5SAg5g"
      }
    },
    {
      "cell_type": "code",
      "execution_count": null,
      "metadata": {
        "id": "o9crJqKbTEmf",
        "colab": {
          "base_uri": "https://localhost:8080/"
        },
        "outputId": "5125439e-9557-440b-bc83-94e7fdcf5f64"
      },
      "outputs": [
        {
          "output_type": "stream",
          "name": "stdout",
          "text": [
            "Accuracy of the model on the test images: 71.56%\n"
          ]
        }
      ],
      "source": [
        "correct = 0\n",
        "total = 0\n",
        "with torch.no_grad():\n",
        "    for data in testloader:\n",
        "        images, labels = data[0].to(device), data[1].to(device)\n",
        "        outputs = model_CNN_adams(images)\n",
        "        _, predicted = outputs.max(1)\n",
        "        total += labels.size(0)\n",
        "        correct += (predicted == labels).sum().item()\n",
        "\n",
        "print(f\"Accuracy of the model on the test images: {100 * correct / total}%\")"
      ]
    },
    {
      "cell_type": "code",
      "execution_count": null,
      "metadata": {
        "id": "RVJFmhO3Af0x",
        "colab": {
          "base_uri": "https://localhost:8080/",
          "height": 672
        },
        "outputId": "52cff797-0e80-4503-d9de-b93af83307a2"
      },
      "outputs": [
        {
          "output_type": "stream",
          "name": "stdout",
          "text": [
            "Epoch 1, Loss: 1.8971763172417955\n",
            "Epoch 2, Loss: 1.5062236116670282\n",
            "Epoch 3, Loss: 1.3394227594213413\n",
            "Epoch 4, Loss: 1.2285634680172366\n",
            "Epoch 5, Loss: 1.141635926635674\n",
            "Epoch 6, Loss: 1.0721507897157498\n",
            "Epoch 7, Loss: 1.0123496820859592\n",
            "Epoch 8, Loss: 0.9559292237624488\n",
            "Epoch 9, Loss: 0.9066190812593836\n",
            "Epoch 10, Loss: 0.864323058091771\n"
          ]
        },
        {
          "output_type": "display_data",
          "data": {
            "text/plain": [
              "<Figure size 640x480 with 1 Axes>"
            ],
            "image/png": "[encoded data removed]"
          },
          "metadata": {}
        },
        {
          "output_type": "stream",
          "name": "stdout",
          "text": [
            "Finished Training with SGD no momentum\n"
          ]
        }
      ],
      "source": [
        "#for SGD optimizer of 0 momentum\n",
        "criterion = nn.CrossEntropyLoss()\n",
        "optimizer = optim.SGD(model_CNN_SGD.parameters(), lr=0.01, momentum=0)\n",
        "\n",
        "# Training Loop\n",
        "epoch_losses = []\n",
        "for epoch in range(10):  # Training for 10 epochs for demonstration\n",
        "    running_loss = 0.0\n",
        "    for i, data in enumerate(trainloader, 0):\n",
        "        inputs, labels = data[0].to(device), data[1].to(device)\n",
        "\n",
        "        # Zero the parameter gradients\n",
        "        optimizer.zero_grad()\n",
        "\n",
        "        # Forward, backward, and optimize\n",
        "        outputs = model_CNN_SGD(inputs)\n",
        "        loss = criterion(outputs, labels)\n",
        "        loss.backward()\n",
        "        optimizer.step()\n",
        "\n",
        "        running_loss += loss.item()\n",
        "    avg_loss = running_loss / len(trainloader)\n",
        "    epoch_losses.append(avg_loss)\n",
        "    print(f\"Epoch {epoch+1}, Loss: {avg_loss}\")\n",
        "\n",
        "\n",
        "# Plotting\n",
        "plt.plot(range(1, 11), epoch_losses)\n",
        "plt.xlabel('Epoch')\n",
        "plt.ylabel('Loss')\n",
        "plt.title('Loss vs Epochs')\n",
        "plt.show()\n",
        "\n",
        "print(\"Finished Training with SGD no momentum\")"
      ]
    },
    {
      "cell_type": "code",
      "execution_count": null,
      "metadata": {
        "id": "u0VA74jjFCGE",
        "colab": {
          "base_uri": "https://localhost:8080/"
        },
        "outputId": "cc465be9-0cd2-408b-c002-7d1599432ff0"
      },
      "outputs": [
        {
          "output_type": "stream",
          "name": "stdout",
          "text": [
            "Accuracy of the model on the test images: 61.92%\n"
          ]
        }
      ],
      "source": [
        "correct = 0\n",
        "total = 0\n",
        "with torch.no_grad():\n",
        "    for data in testloader:\n",
        "        images, labels = data[0].to(device), data[1].to(device)\n",
        "        outputs = model_CNN_SGD(images)\n",
        "        _, predicted = outputs.max(1)\n",
        "        total += labels.size(0)\n",
        "        correct += (predicted == labels).sum().item()\n",
        "\n",
        "print(f\"Accuracy of the model on the test images: {100 * correct / total}%\")"
      ]
    },
    {
      "cell_type": "code",
      "execution_count": null,
      "metadata": {
        "id": "ZdDVPGW4Ahv8",
        "colab": {
          "base_uri": "https://localhost:8080/",
          "height": 672
        },
        "outputId": "4c3e6b3a-b006-452e-b490-9e307b22ddb8"
      },
      "outputs": [
        {
          "output_type": "stream",
          "name": "stdout",
          "text": [
            "Epoch 1, Loss: 1.416222411958153\n",
            "Epoch 2, Loss: 0.9871539957535541\n",
            "Epoch 3, Loss: 0.815650893294293\n",
            "Epoch 4, Loss: 0.673838977275602\n",
            "Epoch 5, Loss: 0.5563100888334271\n",
            "Epoch 6, Loss: 0.4501428570588836\n",
            "Epoch 7, Loss: 0.3446544529798696\n",
            "Epoch 8, Loss: 0.26519046509948074\n",
            "Epoch 9, Loss: 0.20013711079859825\n",
            "Epoch 10, Loss: 0.15435248146743497\n"
          ]
        },
        {
          "output_type": "display_data",
          "data": {
            "text/plain": [
              "<Figure size 640x480 with 1 Axes>"
            ],
            "image/png": "[encoded data removed]"
          },
          "metadata": {}
        },
        {
          "output_type": "stream",
          "name": "stdout",
          "text": [
            "Finished Training with SGD with momentum\n"
          ]
        }
      ],
      "source": [
        "#for the SGD with 0.9 of momentum\n",
        "criterion = nn.CrossEntropyLoss()\n",
        "optimizer = optim.SGD(model_CNN_SGD_moment.parameters(), lr=0.01, momentum=0.9)\n",
        "\n",
        "# Training Loop\n",
        "epoch_losses = []\n",
        "for epoch in range(10):  # Training for 10 epochs for demonstration\n",
        "    running_loss = 0.0\n",
        "    for i, data in enumerate(trainloader, 0):\n",
        "        inputs, labels = data[0].to(device), data[1].to(device)\n",
        "\n",
        "        # Zero the parameter gradients\n",
        "        optimizer.zero_grad()\n",
        "\n",
        "        # Forward, backward, and optimize\n",
        "        outputs = model_CNN_SGD_moment(inputs)\n",
        "        loss = criterion(outputs, labels)\n",
        "        loss.backward()\n",
        "        optimizer.step()\n",
        "\n",
        "        running_loss += loss.item()\n",
        "\n",
        "    avg_loss = running_loss / len(trainloader)\n",
        "    epoch_losses.append(avg_loss)\n",
        "    print(f\"Epoch {epoch+1}, Loss: {avg_loss}\")\n",
        "\n",
        "\n",
        "# Plotting\n",
        "plt.plot(range(1, 11), epoch_losses)\n",
        "plt.xlabel('Epoch')\n",
        "plt.ylabel('Loss')\n",
        "plt.title('Loss vs Epochs')\n",
        "plt.show()\n",
        "\n",
        "print(\"Finished Training with SGD with momentum\")"
      ]
    },
    {
      "cell_type": "code",
      "execution_count": null,
      "metadata": {
        "id": "-WNIFzEoFIQE",
        "colab": {
          "base_uri": "https://localhost:8080/"
        },
        "outputId": "0d2d1586-b8e7-48b4-9e25-8df7fd5f20dd"
      },
      "outputs": [
        {
          "output_type": "stream",
          "name": "stdout",
          "text": [
            "Accuracy of the model on the test images: 71.48%\n"
          ]
        }
      ],
      "source": [
        "correct = 0\n",
        "total = 0\n",
        "with torch.no_grad():\n",
        "    for data in testloader:\n",
        "        images, labels = data[0].to(device), data[1].to(device)\n",
        "        outputs = model_CNN_SGD_moment(images)\n",
        "        _, predicted = outputs.max(1)\n",
        "        total += labels.size(0)\n",
        "        correct += (predicted == labels).sum().item()\n",
        "\n",
        "print(f\"Accuracy of the model on the test images: {100 * correct / total}%\")"
      ]
    },
    {
      "cell_type": "markdown",
      "metadata": {
        "id": "vsTrj0dxXm2R"
      },
      "source": [
        "The most accurate CNN model is the one with the Adams Optimizer. The second highest is the one with SGD momentum of 0.9. The higher the momentum, the faster the training, the better the accuracy."
      ]
    },
    {
      "cell_type": "markdown",
      "metadata": {
        "id": "KNa6nXBWzYBQ"
      },
      "source": [
        "###9.\n",
        "(BONUS: Counts for open-ended marks) Load a pre-trained model that you see fit (e.g., a ResNet) using PyTorch, and then freeze all the convolutional layers and remove all the fully connected ones.\n",
        "Add a number of\n",
        "fully connected layers of your choice right after the convolutional layers. Train only the fully connected layers\n",
        "of the pre-trained model on the CIFAR-10 dataset. How does this pre-trained model compare to the best MLP\n",
        "in part 1 and to the regular CNN in part 5 in terms of the accuracy? How does it compare to the previous models\n",
        "in terms of the required training time? Justify your choice of how many fully connected layers that you have\n",
        "added to the pre-trained model through careful experiments."
      ]
    },
    {
      "cell_type": "code",
      "execution_count": null,
      "metadata": {
        "id": "I4aDz2dvsX3j",
        "colab": {
          "base_uri": "https://localhost:8080/"
        },
        "outputId": "b20d2893-3800-45be-97ef-cf0a9f737899"
      },
      "outputs": [
        {
          "output_type": "stream",
          "name": "stderr",
          "text": [
            "/usr/local/lib/python3.10/dist-packages/torchvision/models/_utils.py:208: UserWarning: The parameter 'pretrained' is deprecated since 0.13 and may be removed in the future, please use 'weights' instead.\n",
            "  warnings.warn(\n",
            "/usr/local/lib/python3.10/dist-packages/torchvision/models/_utils.py:223: UserWarning: Arguments other than a weight enum or `None` for 'weights' are deprecated since 0.13 and may be removed in the future. The current behavior is equivalent to passing `weights=ResNet18_Weights.IMAGENET1K_V1`. You can also use `weights=ResNet18_Weights.DEFAULT` to get the most up-to-date weights.\n",
            "  warnings.warn(msg)\n",
            "Downloading: \"https://download.pytorch.org/models/resnet18-f37072fd.pth\" to /root/.cache/torch/hub/checkpoints/resnet18-f37072fd.pth\n",
            "100%|██████████| 44.7M/44.7M [00:00<00:00, 103MB/s]\n"
          ]
        },
        {
          "output_type": "stream",
          "name": "stdout",
          "text": [
            "ResNet(\n",
            "  (conv1): Conv2d(3, 64, kernel_size=(7, 7), stride=(2, 2), padding=(3, 3), bias=False)\n",
            "  (bn1): BatchNorm2d(64, eps=1e-05, momentum=0.1, affine=True, track_running_stats=True)\n",
            "  (relu): ReLU(inplace=True)\n",
            "  (maxpool): MaxPool2d(kernel_size=3, stride=2, padding=1, dilation=1, ceil_mode=False)\n",
            "  (layer1): Sequential(\n",
            "    (0): BasicBlock(\n",
            "      (conv1): Conv2d(64, 64, kernel_size=(3, 3), stride=(1, 1), padding=(1, 1), bias=False)\n",
            "      (bn1): BatchNorm2d(64, eps=1e-05, momentum=0.1, affine=True, track_running_stats=True)\n",
            "      (relu): ReLU(inplace=True)\n",
            "      (conv2): Conv2d(64, 64, kernel_size=(3, 3), stride=(1, 1), padding=(1, 1), bias=False)\n",
            "      (bn2): BatchNorm2d(64, eps=1e-05, momentum=0.1, affine=True, track_running_stats=True)\n",
            "    )\n",
            "    (1): BasicBlock(\n",
            "      (conv1): Conv2d(64, 64, kernel_size=(3, 3), stride=(1, 1), padding=(1, 1), bias=False)\n",
            "      (bn1): BatchNorm2d(64, eps=1e-05, momentum=0.1, affine=True, track_running_stats=True)\n",
            "      (relu): ReLU(inplace=True)\n",
            "      (conv2): Conv2d(64, 64, kernel_size=(3, 3), stride=(1, 1), padding=(1, 1), bias=False)\n",
            "      (bn2): BatchNorm2d(64, eps=1e-05, momentum=0.1, affine=True, track_running_stats=True)\n",
            "    )\n",
            "  )\n",
            "  (layer2): Sequential(\n",
            "    (0): BasicBlock(\n",
            "      (conv1): Conv2d(64, 128, kernel_size=(3, 3), stride=(2, 2), padding=(1, 1), bias=False)\n",
            "      (bn1): BatchNorm2d(128, eps=1e-05, momentum=0.1, affine=True, track_running_stats=True)\n",
            "      (relu): ReLU(inplace=True)\n",
            "      (conv2): Conv2d(128, 128, kernel_size=(3, 3), stride=(1, 1), padding=(1, 1), bias=False)\n",
            "      (bn2): BatchNorm2d(128, eps=1e-05, momentum=0.1, affine=True, track_running_stats=True)\n",
            "      (downsample): Sequential(\n",
            "        (0): Conv2d(64, 128, kernel_size=(1, 1), stride=(2, 2), bias=False)\n",
            "        (1): BatchNorm2d(128, eps=1e-05, momentum=0.1, affine=True, track_running_stats=True)\n",
            "      )\n",
            "    )\n",
            "    (1): BasicBlock(\n",
            "      (conv1): Conv2d(128, 128, kernel_size=(3, 3), stride=(1, 1), padding=(1, 1), bias=False)\n",
            "      (bn1): BatchNorm2d(128, eps=1e-05, momentum=0.1, affine=True, track_running_stats=True)\n",
            "      (relu): ReLU(inplace=True)\n",
            "      (conv2): Conv2d(128, 128, kernel_size=(3, 3), stride=(1, 1), padding=(1, 1), bias=False)\n",
            "      (bn2): BatchNorm2d(128, eps=1e-05, momentum=0.1, affine=True, track_running_stats=True)\n",
            "    )\n",
            "  )\n",
            "  (layer3): Sequential(\n",
            "    (0): BasicBlock(\n",
            "      (conv1): Conv2d(128, 256, kernel_size=(3, 3), stride=(2, 2), padding=(1, 1), bias=False)\n",
            "      (bn1): BatchNorm2d(256, eps=1e-05, momentum=0.1, affine=True, track_running_stats=True)\n",
            "      (relu): ReLU(inplace=True)\n",
            "      (conv2): Conv2d(256, 256, kernel_size=(3, 3), stride=(1, 1), padding=(1, 1), bias=False)\n",
            "      (bn2): BatchNorm2d(256, eps=1e-05, momentum=0.1, affine=True, track_running_stats=True)\n",
            "      (downsample): Sequential(\n",
            "        (0): Conv2d(128, 256, kernel_size=(1, 1), stride=(2, 2), bias=False)\n",
            "        (1): BatchNorm2d(256, eps=1e-05, momentum=0.1, affine=True, track_running_stats=True)\n",
            "      )\n",
            "    )\n",
            "    (1): BasicBlock(\n",
            "      (conv1): Conv2d(256, 256, kernel_size=(3, 3), stride=(1, 1), padding=(1, 1), bias=False)\n",
            "      (bn1): BatchNorm2d(256, eps=1e-05, momentum=0.1, affine=True, track_running_stats=True)\n",
            "      (relu): ReLU(inplace=True)\n",
            "      (conv2): Conv2d(256, 256, kernel_size=(3, 3), stride=(1, 1), padding=(1, 1), bias=False)\n",
            "      (bn2): BatchNorm2d(256, eps=1e-05, momentum=0.1, affine=True, track_running_stats=True)\n",
            "    )\n",
            "  )\n",
            "  (layer4): Sequential(\n",
            "    (0): BasicBlock(\n",
            "      (conv1): Conv2d(256, 512, kernel_size=(3, 3), stride=(2, 2), padding=(1, 1), bias=False)\n",
            "      (bn1): BatchNorm2d(512, eps=1e-05, momentum=0.1, affine=True, track_running_stats=True)\n",
            "      (relu): ReLU(inplace=True)\n",
            "      (conv2): Conv2d(512, 512, kernel_size=(3, 3), stride=(1, 1), padding=(1, 1), bias=False)\n",
            "      (bn2): BatchNorm2d(512, eps=1e-05, momentum=0.1, affine=True, track_running_stats=True)\n",
            "      (downsample): Sequential(\n",
            "        (0): Conv2d(256, 512, kernel_size=(1, 1), stride=(2, 2), bias=False)\n",
            "        (1): BatchNorm2d(512, eps=1e-05, momentum=0.1, affine=True, track_running_stats=True)\n",
            "      )\n",
            "    )\n",
            "    (1): BasicBlock(\n",
            "      (conv1): Conv2d(512, 512, kernel_size=(3, 3), stride=(1, 1), padding=(1, 1), bias=False)\n",
            "      (bn1): BatchNorm2d(512, eps=1e-05, momentum=0.1, affine=True, track_running_stats=True)\n",
            "      (relu): ReLU(inplace=True)\n",
            "      (conv2): Conv2d(512, 512, kernel_size=(3, 3), stride=(1, 1), padding=(1, 1), bias=False)\n",
            "      (bn2): BatchNorm2d(512, eps=1e-05, momentum=0.1, affine=True, track_running_stats=True)\n",
            "    )\n",
            "  )\n",
            "  (avgpool): AdaptiveAvgPool2d(output_size=(1, 1))\n",
            "  (fc): Linear(in_features=512, out_features=1000, bias=True)\n",
            ")\n"
          ]
        }
      ],
      "source": [
        "import torchvision.models as models\n",
        "# Load pre-trained ResNet model + higher level layers\n",
        "model_ResNet = models.resnet18(pretrained=True)\n",
        "\n",
        "# Freeze convolutional layers\n",
        "for param in model_ResNet.parameters():\n",
        "    param.requires_grad = False\n",
        "\n",
        "# Check the existing architecture\n",
        "print(model_ResNet)"
      ]
    },
    {
      "cell_type": "code",
      "execution_count": null,
      "metadata": {
        "id": "OIcsoWl2saic"
      },
      "outputs": [],
      "source": [
        "# Remove fully connected layers\n",
        "\n",
        "num_ftrs = model_ResNet.fc.in_features\n",
        "#model_ResNet.fc.in_features helps access the input features of the last layers\n",
        "model_ResNet.fc = nn.Identity()  # Put fc into the Identity function\n",
        "#Identity function make everything that satisfies its condition 1 and everything else 0\n",
        "\n",
        "# Add custom fully connected layers\n",
        "model_ResNet.fc = nn.Sequential(\n",
        "    nn.Linear(num_ftrs, 256), nn.ReLU(), nn.Linear(256, 128), nn.ReLU(), nn.Linear(128, 10)  # 10 classes for CIFAR-10\n",
        ")\n"
      ]
    },
    {
      "cell_type": "markdown",
      "source": [
        "Tried to optimize using grid search but failed"
      ],
      "metadata": {
        "id": "gbZN0vyYzEPc"
      }
    },
    {
      "cell_type": "code",
      "source": [
        "'''\n",
        "#we do a slight modification to the above CNN function that we have used for Q8\n",
        "#for better optimization purpose.\n",
        "def make_model(activation, num_neurons):\n",
        "    class Net(nn.Module):\n",
        "        def __init__(self):\n",
        "            super(Net, self).__init__()\n",
        "            self.conv1 = nn.Conv2d(3, 32, 3)\n",
        "            self.conv2 = nn.Conv2d(32, 64, 3)\n",
        "            self.fc1 = nn.Linear(64 * 6 * 6, num_neurons)\n",
        "            self.fc2 = nn.Linear(num_neurons, 10)\n",
        "\n",
        "        def forward(self, x):\n",
        "            x = activation(self.conv1(x))\n",
        "            x = activation(self.conv2(x))\n",
        "            x = x.view(-1, 64 * 6 * 6)\n",
        "            x = activation(self.fc1(x))\n",
        "            x = self.fc2(x)\n",
        "            return x\n",
        "\n",
        "    return Net()\n",
        "\n",
        "#The difinition of the convolutional net work is based on\n",
        "#the official page of PyTorch and their way of defining a convolutional net wwrok\n",
        "'''"
      ],
      "metadata": {
        "id": "CIOfcbtWzIDa"
      },
      "execution_count": null,
      "outputs": []
    },
    {
      "cell_type": "code",
      "source": [
        "'''\n",
        "# Define a list of activation functions\n",
        "activation_functions = [nn.ReLU(), nn.LeakyReLU(), nn.Tanh(), nn.Sigmoid()]\n",
        "\n",
        "# Define a list of number of neurons for the fully connected layer\n",
        "num_neurons_list = [128, 256, 512]\n",
        "\n",
        "#exhaustively looking for the best model for\n",
        "for activation in activation_functions:\n",
        "    for num_neurons in num_neurons_list:\n",
        "        model = make_model(activation, num_neurons)\n",
        "        optzr = optim.SGD(model.parameters(), lr=0.001)\n",
        "        criterion = nn.CrossEntropyLoss()\n",
        "\n",
        "\n",
        "'''"
      ],
      "metadata": {
        "id": "zddu0HXNzNuQ"
      },
      "execution_count": null,
      "outputs": []
    },
    {
      "cell_type": "markdown",
      "source": [
        "The result that was obtained with the \"optimization\" attemp above has an accuracy of 10.19%, which is not worth to do. So we kept the previous version"
      ],
      "metadata": {
        "id": "1RL2luYbzSjQ"
      }
    },
    {
      "cell_type": "code",
      "execution_count": null,
      "metadata": {
        "id": "M9MDaNiHslHG"
      },
      "outputs": [],
      "source": [
        "# Loss and optimizer\n",
        "criterion = nn.CrossEntropyLoss()\n",
        "optimizer = optim.SGD(model_ResNet.fc.parameters(), lr=0.001)  # Only optimize the fully connected layers\n",
        "\n",
        "# Training loop\n",
        "for epoch in range(10):\n",
        "    for i, data in enumerate(trainloader, 0):\n",
        "        inputs, labels = data\n",
        "        optimizer.zero_grad()\n",
        "        outputs = model_ResNet(inputs)\n",
        "        loss = criterion(outputs, labels)\n",
        "        loss.backward()\n",
        "        optimizer.step()\n"
      ]
    },
    {
      "cell_type": "code",
      "execution_count": null,
      "metadata": {
        "id": "Q-iHmeJzsw_m",
        "colab": {
          "base_uri": "https://localhost:8080/"
        },
        "outputId": "44b2c11a-417f-4150-e46e-5b30ef1cebe5"
      },
      "outputs": [
        {
          "output_type": "stream",
          "name": "stdout",
          "text": [
            "Accuracy of the model on the test images: 39.15%\n"
          ]
        }
      ],
      "source": [
        "correct = 0\n",
        "total = 0\n",
        "with torch.no_grad():\n",
        "    for data in testloader:\n",
        "        images, labels = data[0].to(device), data[1].to(device)\n",
        "        outputs = model_ResNet(images)\n",
        "        _, predicted = outputs.max(1)\n",
        "        total += labels.size(0)\n",
        "        correct += (predicted == labels).sum().item()\n",
        "\n",
        "print(f\"Accuracy of the model on the test images: {100 * correct / total}%\")"
      ]
    }
  ],
  "metadata": {
    "colab": {
      "provenance": []
    },
    "kernelspec": {
      "display_name": "Python 3",
      "name": "python3"
    },
    "language_info": {
      "name": "python"
    }
  },
  "nbformat": 4,
  "nbformat_minor": 0
}
